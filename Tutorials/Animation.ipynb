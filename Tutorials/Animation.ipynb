{
 "cells": [
  {
   "cell_type": "markdown",
   "id": "c77d949d",
   "metadata": {},
   "source": [
    "A guide to creating videos of the simulations.   \n",
    "This is mostly for the 2D simulations (Moran2D and WF2D).   \n",
    "There is also (an unreliable) method for visualising the non-spatial simulations on a 2D-plane (with the understanding that it is not particularly meaningful).  "
   ]
  },
  {
   "cell_type": "markdown",
   "id": "eb51c310",
   "metadata": {},
   "source": [
    "To create the animations, you need ffmpeg installed.  "
   ]
  },
  {
   "cell_type": "code",
   "execution_count": 1,
   "id": "177bc35e",
   "metadata": {
    "ExecuteTime": {
     "end_time": "2022-04-13T12:19:31.996848Z",
     "start_time": "2022-04-13T12:19:30.260328Z"
    }
   },
   "outputs": [],
   "source": [
    "import numpy as np\n",
    "from clone_competition_simulation import Parameters"
   ]
  },
  {
   "cell_type": "code",
   "execution_count": 2,
   "id": "4963f139",
   "metadata": {
    "ExecuteTime": {
     "end_time": "2022-04-13T12:19:44.016645Z",
     "start_time": "2022-04-13T12:19:32.000430Z"
    }
   },
   "outputs": [
    {
     "name": "stderr",
     "output_type": "stream",
     "text": [
      "/Users/mh28/PycharmProjects/clone-competition-simulation/clone_competition_simulation/animator.py:213: MatplotlibDeprecationWarning: \n",
      "The 'offset_position' parameter of __init__() was deprecated in Matplotlib 3.3 and will be removed two minor releases later. If any parameter follows 'offset_position', they should be passed as keyword, not positionally.\n",
      "  self.col = collections.PolyCollection(\n",
      "/Users/mh28/PycharmProjects/clone-competition-simulation/clone_competition_simulation/animator.py:213: MatplotlibDeprecationWarning: \n",
      "The set_offset_position function was deprecated in Matplotlib 3.3 and will be removed two minor releases later.\n",
      "  self.col = collections.PolyCollection(\n",
      "/Users/mh28/PycharmProjects/clone-competition-simulation/clone_competition_simulation/animator.py:287: MatplotlibDeprecationWarning: Support for offset_position='data' is deprecated since 3.3 and will be removed two minor releases later.\n",
      "  ani = animation.FuncAnimation(self.fig, self._update, blit=True, init_func=self._first_frame,\n",
      "/Users/mh28/PycharmProjects/clone-competition-simulation/clone_competition_simulation/animator.py:289: MatplotlibDeprecationWarning: Support for offset_position='data' is deprecated since 3.3 and will be removed two minor releases later.\n",
      "  ani.save(animation_file, fps=self.fps, bitrate=self.bitrate, codec=\"libx264\", dpi=self.dpi,\n"
     ]
    }
   ],
   "source": [
    "np.random.seed(2)\n",
    "initial_grid = np.concatenate([np.zeros(5000), np.ones(5000)]).reshape(100, 100)\n",
    "p = Parameters(algorithm='Moran2D', initial_grid=initial_grid, print_warnings=False)\n",
    "s = p.get_simulator()\n",
    "s.run_sim()\n",
    "\n",
    "# After running the simulation, a video can be made. \n",
    "# Various options can be set for the quality, size and speed of the video\n",
    "# By default, there will be one frame per simulation sample point\n",
    "s.animate('outfile1.mp4', figsize=(3, 3), dpi=300, bitrate=1000, fps=5)"
   ]
  },
  {
   "cell_type": "code",
   "execution_count": 3,
   "id": "554f549f",
   "metadata": {
    "ExecuteTime": {
     "end_time": "2022-04-13T12:19:44.035132Z",
     "start_time": "2022-04-13T12:19:44.022189Z"
    }
   },
   "outputs": [
    {
     "data": {
      "text/html": [
       "<div align=\"middle\">\n",
       "<video width=\"50%\" controls>\n",
       "      <source src=\"outfile1.mp4\" type=\"video/mp4\">\n",
       "</video></div>\n"
      ],
      "text/plain": [
       "<IPython.core.display.HTML object>"
      ]
     },
     "metadata": {},
     "output_type": "display_data"
    }
   ],
   "source": [
    "%%HTML\n",
    "<div align=\"middle\">\n",
    "<video width=\"50%\" controls>\n",
    "      <source src=\"outfile1.mp4\" type=\"video/mp4\">\n",
    "</video></div>"
   ]
  },
  {
   "cell_type": "markdown",
   "id": "7c38e1ad",
   "metadata": {},
   "source": [
    "There are some options to overlay some basic text over the videos  \n",
    "\n",
    "You can add a fixed label which is placed for the entire video. \n",
    "\n",
    "You can also add a time counter. "
   ]
  },
  {
   "cell_type": "code",
   "execution_count": 4,
   "id": "17d6e3ae",
   "metadata": {
    "ExecuteTime": {
     "end_time": "2022-04-13T12:19:53.398640Z",
     "start_time": "2022-04-13T12:19:44.039510Z"
    }
   },
   "outputs": [
    {
     "name": "stderr",
     "output_type": "stream",
     "text": [
      "/Users/mh28/PycharmProjects/clone-competition-simulation/clone_competition_simulation/animator.py:213: MatplotlibDeprecationWarning: \n",
      "The 'offset_position' parameter of __init__() was deprecated in Matplotlib 3.3 and will be removed two minor releases later. If any parameter follows 'offset_position', they should be passed as keyword, not positionally.\n",
      "  self.col = collections.PolyCollection(\n",
      "/Users/mh28/PycharmProjects/clone-competition-simulation/clone_competition_simulation/animator.py:213: MatplotlibDeprecationWarning: \n",
      "The set_offset_position function was deprecated in Matplotlib 3.3 and will be removed two minor releases later.\n",
      "  self.col = collections.PolyCollection(\n",
      "/Users/mh28/PycharmProjects/clone-competition-simulation/clone_competition_simulation/animator.py:287: MatplotlibDeprecationWarning: Support for offset_position='data' is deprecated since 3.3 and will be removed two minor releases later.\n",
      "  ani = animation.FuncAnimation(self.fig, self._update, blit=True, init_func=self._first_frame,\n",
      "/Users/mh28/PycharmProjects/clone-competition-simulation/clone_competition_simulation/animator.py:289: MatplotlibDeprecationWarning: Support for offset_position='data' is deprecated since 3.3 and will be removed two minor releases later.\n",
      "  ani.save(animation_file, fps=self.fps, bitrate=self.bitrate, codec=\"libx264\", dpi=self.dpi,\n"
     ]
    }
   ],
   "source": [
    "s.animate('outfile2.mp4', figsize=(3, 3), dpi=300, bitrate=1000, fps=5, \n",
    "         fixed_label_text='My simulation', fixed_label_loc=(10, 40), \n",
    "          fixed_label_kwargs={'fontsize': 14, 'fontweight': 3}, \n",
    "          show_time_label=True, time_label_units='days', time_label_loc=(70, 5), \n",
    "          time_label_kwargs={'fontsize': 10, 'color': 'r'}, time_label_decimal_places=1\n",
    "         )"
   ]
  },
  {
   "cell_type": "code",
   "execution_count": 5,
   "id": "93e09c3b",
   "metadata": {
    "ExecuteTime": {
     "end_time": "2022-04-13T12:19:53.423181Z",
     "start_time": "2022-04-13T12:19:53.414188Z"
    }
   },
   "outputs": [
    {
     "data": {
      "text/html": [
       "<div align=\"middle\">\n",
       "<video width=\"50%\" controls>\n",
       "      <source src=\"outfile2.mp4\" type=\"video/mp4\">\n",
       "</video></div>\n"
      ],
      "text/plain": [
       "<IPython.core.display.HTML object>"
      ]
     },
     "metadata": {},
     "output_type": "display_data"
    }
   ],
   "source": [
    "%%HTML\n",
    "<div align=\"middle\">\n",
    "<video width=\"50%\" controls>\n",
    "      <source src=\"outfile2.mp4\" type=\"video/mp4\">\n",
    "</video></div>"
   ]
  },
  {
   "cell_type": "markdown",
   "id": "760e7707",
   "metadata": {},
   "source": [
    "# Showing fitness values"
   ]
  },
  {
   "cell_type": "markdown",
   "id": "e2dce3d4",
   "metadata": {},
   "source": [
    "This is an option to colour the videos by the fitness value of each cell instead of the clone id.  \n",
    "Since this is a less used function, it does not currently have the same set of options (e.g. no text overlay)"
   ]
  },
  {
   "cell_type": "code",
   "execution_count": 6,
   "id": "3126d1bb",
   "metadata": {
    "ExecuteTime": {
     "end_time": "2022-04-13T12:19:53.437470Z",
     "start_time": "2022-04-13T12:19:53.427687Z"
    }
   },
   "outputs": [],
   "source": [
    "import matplotlib.cm as cm\n",
    "from clone_competition_simulation import Gene, MutationGenerator, UniformDist"
   ]
  },
  {
   "cell_type": "code",
   "execution_count": 7,
   "id": "4ed7e7bf",
   "metadata": {
    "ExecuteTime": {
     "end_time": "2022-04-13T12:20:27.390757Z",
     "start_time": "2022-04-13T12:19:53.445283Z"
    }
   },
   "outputs": [
    {
     "name": "stderr",
     "output_type": "stream",
     "text": [
      "/Users/mh28/PycharmProjects/clone-competition-simulation/clone_competition_simulation/animator.py:213: MatplotlibDeprecationWarning: \n",
      "The 'offset_position' parameter of __init__() was deprecated in Matplotlib 3.3 and will be removed two minor releases later. If any parameter follows 'offset_position', they should be passed as keyword, not positionally.\n",
      "  self.col = collections.PolyCollection(\n",
      "/Users/mh28/PycharmProjects/clone-competition-simulation/clone_competition_simulation/animator.py:213: MatplotlibDeprecationWarning: \n",
      "The set_offset_position function was deprecated in Matplotlib 3.3 and will be removed two minor releases later.\n",
      "  self.col = collections.PolyCollection(\n",
      "/Users/mh28/PycharmProjects/clone-competition-simulation/clone_competition_simulation/animator.py:502: MatplotlibDeprecationWarning: Support for offset_position='data' is deprecated since 3.3 and will be removed two minor releases later.\n",
      "  ani = animation.FuncAnimation(self.fig, self._update, blit=True, init_func=self._first_frame,\n",
      "/Users/mh28/PycharmProjects/clone-competition-simulation/clone_competition_simulation/animator.py:504: MatplotlibDeprecationWarning: Support for offset_position='data' is deprecated since 3.3 and will be removed two minor releases later.\n",
      "  ani.save(animation_file, fps=self.fps, bitrate=self.bitrate, codec=\"libx264\", extra_args=['-pix_fmt', 'yuv420p'])\n"
     ]
    }
   ],
   "source": [
    "# Set up a simulation with some mutations that change the fitness. \n",
    "# Keeping the two initial neutral clones as before to demonstrate that they are not used to colour the cells here \n",
    "np.random.seed(2)\n",
    "initial_grid = np.concatenate([np.zeros(5000), np.ones(5000)]).reshape(100, 100)\n",
    "mut_gen = MutationGenerator(genes=[Gene('Gene1', UniformDist(1, 1.5), synonymous_proportion=0)], \n",
    "                            combine_mutations='add')\n",
    "p = Parameters(algorithm='Moran2D', initial_grid=initial_grid, \n",
    "               mutation_generator=mut_gen, mutation_rates=0.1, print_warnings=False)\n",
    "s = p.get_simulator()\n",
    "s.run_sim()\n",
    "\n",
    "s.animate('outfile3.mp4', fitness=True, fitness_cmap=cm.plasma, min_fitness=1,\n",
    "          figsize=(4, 3), dpi=300, bitrate=1000, fps=5)"
   ]
  },
  {
   "cell_type": "code",
   "execution_count": 8,
   "id": "14c47106",
   "metadata": {
    "ExecuteTime": {
     "end_time": "2022-04-13T12:20:27.405565Z",
     "start_time": "2022-04-13T12:20:27.393185Z"
    }
   },
   "outputs": [
    {
     "data": {
      "text/html": [
       "<div align=\"middle\">\n",
       "<video width=\"50%\" controls>\n",
       "      <source src=\"outfile3.mp4\" type=\"video/mp4\">\n",
       "</video></div>\n"
      ],
      "text/plain": [
       "<IPython.core.display.HTML object>"
      ]
     },
     "metadata": {},
     "output_type": "display_data"
    }
   ],
   "source": [
    "%%HTML\n",
    "<div align=\"middle\">\n",
    "<video width=\"50%\" controls>\n",
    "      <source src=\"outfile3.mp4\" type=\"video/mp4\">\n",
    "</video></div>"
   ]
  },
  {
   "cell_type": "markdown",
   "id": "dbb0c286",
   "metadata": {},
   "source": [
    "# Videos for non-spatial simulations"
   ]
  },
  {
   "cell_type": "markdown",
   "id": "4994b6db",
   "metadata": {},
   "source": [
    "It is not recommended to use this. Describing here mostly just for completeness.   \n",
    "\n",
    "This represents the relative sizes of clones on a 2D plane.   \n",
    "It is not a true representation of the clonal competition, since the non-spatial simulations do not take account of the postions of cells.  \n",
    "\n",
    "The method used to produce these videos attempts to place cells in an expanding clone on the border of that clone. \n",
    "It does not always work, and can fail to produce a video in some cases.   \n",
    "Since it is very rarely used, it is not optimised and can be very slow (much slower than the simulations themselves).   "
   ]
  },
  {
   "cell_type": "code",
   "execution_count": 9,
   "id": "4c98922f",
   "metadata": {
    "ExecuteTime": {
     "end_time": "2022-04-13T12:24:11.957881Z",
     "start_time": "2022-04-13T12:20:27.409193Z"
    }
   },
   "outputs": [],
   "source": [
    "# Run a non-spatial simulation\n",
    "np.random.seed(0)\n",
    "p = Parameters(algorithm='Moran', initial_size_array=np.full(10, 10), print_warnings=False)\n",
    "s = p.get_simulator()\n",
    "s.run_sim()\n",
    "\n",
    "# The animation takes a long time...\n",
    "s.animate('outfile4.mp4', grid_size=100,  # Will make a square grid\n",
    "          figsize=(3, 3), dpi=300, bitrate=1000, fps=5)"
   ]
  },
  {
   "cell_type": "code",
   "execution_count": 10,
   "id": "54852b34",
   "metadata": {
    "ExecuteTime": {
     "end_time": "2022-04-13T12:24:11.977060Z",
     "start_time": "2022-04-13T12:24:11.960507Z"
    }
   },
   "outputs": [
    {
     "data": {
      "text/html": [
       "<div align=\"middle\">\n",
       "<video width=\"50%\" controls>\n",
       "      <source src=\"outfile4.mp4\" type=\"video/mp4\">\n",
       "</video></div>\n"
      ],
      "text/plain": [
       "<IPython.core.display.HTML object>"
      ]
     },
     "metadata": {},
     "output_type": "display_data"
    }
   ],
   "source": [
    "%%HTML\n",
    "<div align=\"middle\">\n",
    "<video width=\"50%\" controls>\n",
    "      <source src=\"outfile4.mp4\" type=\"video/mp4\">\n",
    "</video></div>"
   ]
  },
  {
   "cell_type": "code",
   "execution_count": null,
   "id": "bb327f7f",
   "metadata": {},
   "outputs": [],
   "source": []
  }
 ],
 "metadata": {
  "kernelspec": {
   "display_name": "Python 3 (ipykernel)",
   "language": "python",
   "name": "python3"
  },
  "language_info": {
   "codemirror_mode": {
    "name": "ipython",
    "version": 3
   },
   "file_extension": ".py",
   "mimetype": "text/x-python",
   "name": "python",
   "nbconvert_exporter": "python",
   "pygments_lexer": "ipython3",
   "version": "3.8.12"
  }
 },
 "nbformat": 4,
 "nbformat_minor": 5
}
