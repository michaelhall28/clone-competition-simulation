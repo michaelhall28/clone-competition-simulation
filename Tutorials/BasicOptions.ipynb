{
 "cells": [
  {
   "cell_type": "markdown",
   "id": "63ff580a",
   "metadata": {},
   "source": [
    "This runs through a few of the simpler parameters you can adjust when running a simulation.   "
   ]
  },
  {
   "cell_type": "code",
   "execution_count": 10,
   "id": "54cae123",
   "metadata": {
    "ExecuteTime": {
     "end_time": "2022-04-13T08:59:48.493846Z",
     "start_time": "2022-04-13T08:59:48.488271Z"
    }
   },
   "outputs": [],
   "source": [
    "%matplotlib inline\n",
    "import matplotlib.pyplot as plt\n",
    "import numpy as np"
   ]
  },
  {
   "cell_type": "code",
   "execution_count": 2,
   "id": "ab2750be",
   "metadata": {
    "ExecuteTime": {
     "end_time": "2022-04-13T08:49:37.403817Z",
     "start_time": "2022-04-13T08:49:36.555003Z"
    }
   },
   "outputs": [],
   "source": [
    "from clone_competition_simulation import Parameters"
   ]
  },
  {
   "cell_type": "markdown",
   "id": "661f9d5b",
   "metadata": {},
   "source": [
    "# Parameter warnings"
   ]
  },
  {
   "cell_type": "markdown",
   "id": "8618ac76",
   "metadata": {},
   "source": [
    "Most parameter options will not be explicitly specified when running a simulation.   \n",
    "These will be set using the default values. \n",
    "\n",
    "Set `print_warnings=True` (the default option) to see some of the default options used when running a simulation.  "
   ]
  },
  {
   "cell_type": "code",
   "execution_count": 3,
   "id": "176094b1",
   "metadata": {
    "ExecuteTime": {
     "end_time": "2022-04-13T08:51:10.614781Z",
     "start_time": "2022-04-13T08:51:10.601196Z"
    }
   },
   "outputs": [
    {
     "name": "stdout",
     "output_type": "stream",
     "text": [
      "============== Setting up ==============\n",
      "Using a grid of 20x20\n",
      "Using the default division rate: 1\n",
      "Using the default max time: 10\n",
      "4000 simulation_steps\n",
      "Using the default mutation rate: 0\n",
      "========================================\n"
     ]
    }
   ],
   "source": [
    "p = Parameters(algorithm='Moran2D', initial_cells=400)"
   ]
  },
  {
   "cell_type": "markdown",
   "id": "1f628379",
   "metadata": {},
   "source": [
    "# Simulation progress"
   ]
  },
  {
   "cell_type": "markdown",
   "id": "adfa2410",
   "metadata": {},
   "source": [
    "Some larger simulations can be slow to run.  \n",
    "To keep track of how far through a simulation has reached, use the `progress` option.   \n",
    "\n",
    "This does not work for the Branching algorithm.   \n",
    "\n",
    "For the other algorithms, setting progress=X will print every X simulation steps.   \n",
    "\n",
    "For the Moran and Moran2D algorithms, each step is a single cell birth/cell death pair. Set progress to a high number to prevent too much printing.   \n",
    "For the WF and WF2D algorithms, each step is a cell generation.   "
   ]
  },
  {
   "cell_type": "code",
   "execution_count": 5,
   "id": "e2927b6e",
   "metadata": {
    "ExecuteTime": {
     "end_time": "2022-04-13T08:55:52.187399Z",
     "start_time": "2022-04-13T08:55:39.281819Z"
    }
   },
   "outputs": [
    {
     "name": "stdout",
     "output_type": "stream",
     "text": [
      "============== Setting up ==============\n",
      "Using a grid of 200x200\n",
      "Using the default division rate: 1\n",
      "Using the default max time: 10\n",
      "400000 simulation_steps\n",
      "Using the default mutation rate: 0\n",
      "========================================\n",
      "0 mutations to add\n",
      "Steps completed:\n",
      "50000, 100000, 150000, 200000, 250000, 300000, 350000, 400000, Finished 400000 steps\n"
     ]
    }
   ],
   "source": [
    "p = Parameters(algorithm='Moran2D', initial_cells=40000, progress=50000)\n",
    "s = p.get_simulator()\n",
    "s.run_sim()"
   ]
  },
  {
   "cell_type": "code",
   "execution_count": 7,
   "id": "4d9176dd",
   "metadata": {
    "ExecuteTime": {
     "end_time": "2022-04-13T08:56:13.524991Z",
     "start_time": "2022-04-13T08:56:13.378485Z"
    }
   },
   "outputs": [
    {
     "name": "stdout",
     "output_type": "stream",
     "text": [
      "============== Setting up ==============\n",
      "Using a grid of 200x200\n",
      "Using the default division rate: 1\n",
      "Using the default max time: 10\n",
      "10 simulation_steps\n",
      "Using the default mutation rate: 0\n",
      "========================================\n",
      "0 mutations to add\n",
      "Steps completed:\n",
      "2, 4, 6, 8, 10, Finished 10 steps\n"
     ]
    }
   ],
   "source": [
    "p = Parameters(algorithm='WF2D', initial_cells=40000, progress=2)\n",
    "s = p.get_simulator()\n",
    "s.run_sim()"
   ]
  },
  {
   "cell_type": "markdown",
   "id": "22fe90c7",
   "metadata": {},
   "source": [
    "# Division rate"
   ]
  },
  {
   "cell_type": "markdown",
   "id": "631561e5",
   "metadata": {},
   "source": [
    "By default, the division rate is 1 (one division per time unit).     "
   ]
  },
  {
   "cell_type": "code",
   "execution_count": 16,
   "id": "6045eb55",
   "metadata": {
    "ExecuteTime": {
     "end_time": "2022-04-13T09:01:51.690504Z",
     "start_time": "2022-04-13T09:01:50.236832Z"
    }
   },
   "outputs": [
    {
     "data": {
      "image/png": "[encoded data removed]",
      "text/plain": [
       "<Figure size 432x288 with 1 Axes>"
      ]
     },
     "metadata": {
      "needs_background": "light"
     },
     "output_type": "display_data"
    }
   ],
   "source": [
    "# Default division_rate is 1\n",
    "p = Parameters(algorithm='Moran', initial_size_array=np.ones(1000), print_warnings=False)  \n",
    "s = p.get_simulator()\n",
    "s.run_sim()\n",
    "\n",
    "# Increase the division_rate\n",
    "p = Parameters(algorithm='Moran', initial_size_array=np.ones(1000), division_rate=1.7, print_warnings=False)  \n",
    "s2 = p.get_simulator()\n",
    "s2.run_sim()\n",
    "\n",
    "s.plot_mean_clone_size_graph_for_non_mutation(show_spm_fit=False, legend_label=1)\n",
    "s2.plot_mean_clone_size_graph_for_non_mutation(ax=plt.gca(), show_spm_fit=False, legend_label=1.7)\n",
    "plt.legend(title='Division rate');"
   ]
  },
  {
   "cell_type": "markdown",
   "id": "519d7596",
   "metadata": {},
   "source": [
    "# Simulation length and sampling times"
   ]
  },
  {
   "cell_type": "markdown",
   "id": "600a9392",
   "metadata": {},
   "source": [
    "The length of a simulation can be specified in a few different ways.  "
   ]
  },
  {
   "cell_type": "code",
   "execution_count": 22,
   "id": "d8d09a5c",
   "metadata": {
    "ExecuteTime": {
     "end_time": "2022-04-13T09:24:37.607520Z",
     "start_time": "2022-04-13T09:24:36.451611Z"
    }
   },
   "outputs": [
    {
     "name": "stdout",
     "output_type": "stream",
     "text": [
      "============== Setting up ==============\n",
      "Using the default division rate: 1\n",
      "20000 simulation_steps\n",
      "Using the default mutation rate: 0\n",
      "========================================\n"
     ]
    },
    {
     "data": {
      "text/plain": [
       "<matplotlib.legend.Legend at 0x7fbf58ee2940>"
      ]
     },
     "execution_count": 22,
     "metadata": {},
     "output_type": "execute_result"
    },
    {
     "data": {
      "image/png": "[encoded data removed]",
      "text/plain": [
       "<Figure size 432x288 with 1 Axes>"
      ]
     },
     "metadata": {
      "needs_background": "light"
     },
     "output_type": "display_data"
    }
   ],
   "source": [
    "# Set the max_time. By default this is 10\n",
    "# Can run a longer simulation by setting max_time=20\n",
    "p = Parameters(algorithm='Moran', initial_size_array=np.ones(1000), max_time=20, print_warnings=True)\n",
    "s20 = p.get_simulator()\n",
    "s20.run_sim()\n",
    "\n",
    "s.plot_mean_clone_size_graph_for_non_mutation(show_spm_fit=False, legend_label=10)\n",
    "s20.plot_mean_clone_size_graph_for_non_mutation(ax=plt.gca(), show_spm_fit=False, legend_label=20)\n",
    "plt.legend(title='Max time')"
   ]
  },
  {
   "cell_type": "markdown",
   "id": "d399ff06",
   "metadata": {},
   "source": [
    "The number of simulation steps can be set instead of the max_time  \n",
    "\n",
    "The relationship between time and steps will depend on the division_rate and the algorithm.  "
   ]
  },
  {
   "cell_type": "code",
   "execution_count": 23,
   "id": "ca43851f",
   "metadata": {
    "ExecuteTime": {
     "end_time": "2022-04-13T09:25:26.910775Z",
     "start_time": "2022-04-13T09:25:25.881798Z"
    }
   },
   "outputs": [
    {
     "name": "stdout",
     "output_type": "stream",
     "text": [
      "============== Setting up ==============\n",
      "Using the default division rate: 1\n",
      "Max time for the simulation is 15.0\n",
      "Using the default mutation rate: 0\n",
      "========================================\n"
     ]
    },
    {
     "data": {
      "text/plain": [
       "<matplotlib.legend.Legend at 0x7fbf5905bfd0>"
      ]
     },
     "execution_count": 23,
     "metadata": {},
     "output_type": "execute_result"
    },
    {
     "data": {
      "image/png": "[encoded data removed]",
      "text/plain": [
       "<Figure size 432x288 with 1 Axes>"
      ]
     },
     "metadata": {
      "needs_background": "light"
     },
     "output_type": "display_data"
    }
   ],
   "source": [
    "p = Parameters(algorithm='Moran', initial_size_array=np.ones(1000), simulation_steps=15000, print_warnings=True)\n",
    "s15 = p.get_simulator()\n",
    "s15.run_sim()\n",
    "\n",
    "s.plot_mean_clone_size_graph_for_non_mutation(show_spm_fit=False, legend_label='Max time=10')\n",
    "s15.plot_mean_clone_size_graph_for_non_mutation(ax=plt.gca(), show_spm_fit=False, legend_label='15000 steps')\n",
    "plt.legend()"
   ]
  },
  {
   "cell_type": "markdown",
   "id": "579beeaf",
   "metadata": {},
   "source": [
    "Sampling times.   \n",
    "For many experiments, there are particular times that samples are taken/data is measured.   \n",
    "\n",
    "The sampling times can be set for a simulation. The simulation will run up until the last simulation step.  \n",
    "The `times` must be in increasing order. "
   ]
  },
  {
   "cell_type": "code",
   "execution_count": 28,
   "id": "83177571",
   "metadata": {
    "ExecuteTime": {
     "end_time": "2022-04-13T09:46:29.321748Z",
     "start_time": "2022-04-13T09:46:27.285307Z"
    }
   },
   "outputs": [
    {
     "name": "stdout",
     "output_type": "stream",
     "text": [
      "============== Setting up ==============\n",
      "48000 simulation_steps\n",
      "Using the default mutation rate: 0\n",
      "========================================\n"
     ]
    },
    {
     "data": {
      "image/png": "[encoded data removed]",
      "text/plain": [
       "<Figure size 432x288 with 1 Axes>"
      ]
     },
     "metadata": {
      "needs_background": "light"
     },
     "output_type": "display_data"
    }
   ],
   "source": [
    "# Say there is an experiment with cells dividing 1.6 times per week, and samples take after 2, 10, and 30 weeks. \n",
    "# You can simulate this scenario by setting the `division_rate` and the `times`\n",
    "p = Parameters(algorithm='Moran', initial_size_array=np.ones(1000), times=[2,10,30], \n",
    "               division_rate=1.6, print_warnings=True)\n",
    "s = p.get_simulator()\n",
    "s.run_sim()\n",
    "s.plot_surviving_clones_for_non_mutation()"
   ]
  },
  {
   "cell_type": "markdown",
   "id": "95970109",
   "metadata": {},
   "source": [
    "By default, there are 100 'samples' taken during a simulation (the initial conditions are also recorded).    \n",
    "If `times` is defined, then one sample is taken per time.  \n",
    "Otherwise, you can set the number of samples to take by setting `samples` "
   ]
  },
  {
   "cell_type": "code",
   "execution_count": 34,
   "id": "4fe14d50",
   "metadata": {
    "ExecuteTime": {
     "end_time": "2022-04-13T09:49:19.740781Z",
     "start_time": "2022-04-13T09:49:19.452181Z"
    }
   },
   "outputs": [
    {
     "data": {
      "text/plain": [
       "array([[500., 542., 543., 549., 603., 582.],\n",
       "       [500., 458., 457., 451., 397., 418.]])"
      ]
     },
     "execution_count": 34,
     "metadata": {},
     "output_type": "execute_result"
    }
   ],
   "source": [
    "# A simulation with two clones\n",
    "# Take 5 samples\n",
    "p = Parameters(algorithm='Moran', initial_size_array=[500, 500], samples=5, print_warnings=False)\n",
    "s = p.get_simulator()\n",
    "s.run_sim()\n",
    "\n",
    "# There are 5 samples plus the initial condition. \n",
    "s.population_array.toarray()"
   ]
  },
  {
   "cell_type": "markdown",
   "id": "c326fad1",
   "metadata": {},
   "source": [
    "If the requested samples/times do not align with a simulation step, then the sampling times will be slightly shifted.  \n",
    "\n",
    "Only unique sample points are kept, so if two requested time points are rounded to the same simulation step, then the number of sample points is reduced.   \n",
    "\n",
    "This is most likely to happen in the WF/WF2D algorithms, where there is a much larger time between simulation steps."
   ]
  },
  {
   "cell_type": "code",
   "execution_count": 36,
   "id": "bf541463",
   "metadata": {
    "ExecuteTime": {
     "end_time": "2022-04-13T09:55:36.510663Z",
     "start_time": "2022-04-13T09:55:36.494209Z"
    }
   },
   "outputs": [
    {
     "name": "stdout",
     "output_type": "stream",
     "text": [
      "============== Setting up ==============\n",
      "10 simulation_steps\n",
      "Using the default mutation rate: 0\n",
      "========================================\n"
     ]
    },
    {
     "data": {
      "text/plain": [
       "array([[500., 515., 544., 520., 487., 499., 490., 477., 464., 460., 464.],\n",
       "       [500., 485., 456., 480., 513., 501., 510., 523., 536., 540., 536.]])"
      ]
     },
     "execution_count": 36,
     "metadata": {},
     "output_type": "execute_result"
    }
   ],
   "source": [
    "# Requesting 500 samples in this simulation. \n",
    "# Only 10 (plus initial condition) will be used, since only 10 simulation steps are run. \n",
    "p = Parameters(algorithm='WF', initial_size_array=[500, 500], samples=500, \n",
    "               max_time=10, division_rate=1,\n",
    "               print_warnings=True)\n",
    "s = p.get_simulator()\n",
    "s.run_sim()\n",
    "\n",
    "# There are 10 samples plus the initial condition. \n",
    "s.population_array.toarray()"
   ]
  },
  {
   "cell_type": "code",
   "execution_count": 42,
   "id": "307405ec",
   "metadata": {
    "ExecuteTime": {
     "end_time": "2022-04-13T09:57:54.126198Z",
     "start_time": "2022-04-13T09:57:54.113318Z"
    }
   },
   "outputs": [
    {
     "name": "stdout",
     "output_type": "stream",
     "text": [
      "============== Setting up ==============\n",
      "9 simulation_steps\n",
      "Times rounded to match simulation steps:\n",
      "\tTimes used: [2. 4. 9.]\n",
      "Using the default mutation rate: 0\n",
      "========================================\n"
     ]
    },
    {
     "data": {
      "text/plain": [
       "(array([[493., 480., 394.],\n",
       "        [507., 520., 606.]]),\n",
       " array([2., 4., 9.]))"
      ]
     },
     "execution_count": 42,
     "metadata": {},
     "output_type": "execute_result"
    }
   ],
   "source": [
    "# Requesting time points that don't align perfectly with the simulation steps. \n",
    "# They will be rounded to the closest simulation step.  \n",
    "p = Parameters(algorithm='WF', initial_size_array=[500, 500], times=[2.3, 4.3, 8.7], \n",
    "               division_rate=1,\n",
    "               print_warnings=True)\n",
    "s = p.get_simulator()\n",
    "s.run_sim()\n",
    "\n",
    "s.population_array.toarray(), s.times"
   ]
  },
  {
   "cell_type": "code",
   "execution_count": 40,
   "id": "5414117c",
   "metadata": {
    "ExecuteTime": {
     "end_time": "2022-04-13T09:57:45.872816Z",
     "start_time": "2022-04-13T09:57:45.594434Z"
    }
   },
   "outputs": [
    {
     "name": "stdout",
     "output_type": "stream",
     "text": [
      "============== Setting up ==============\n",
      "8700 simulation_steps\n",
      "Using the default mutation rate: 0\n",
      "========================================\n"
     ]
    },
    {
     "data": {
      "text/plain": [
       "(array([[493., 478., 435.],\n",
       "        [507., 522., 565.]]),\n",
       " array([2.3, 4.3, 8.7]))"
      ]
     },
     "execution_count": 40,
     "metadata": {},
     "output_type": "execute_result"
    }
   ],
   "source": [
    "# This is much less of a problem with Moran/Moran2D simulations, since there are many more simulation steps\n",
    "# with much smaller time increments between them\n",
    "p = Parameters(algorithm='Moran', initial_size_array=[500, 500], times=[2.3, 4.3, 8.7], \n",
    "               division_rate=1,\n",
    "               print_warnings=True)\n",
    "s = p.get_simulator()\n",
    "s.run_sim()\n",
    "\n",
    "s.population_array.toarray(), s.times"
   ]
  },
  {
   "cell_type": "code",
   "execution_count": null,
   "id": "752d637b",
   "metadata": {},
   "outputs": [],
   "source": []
  }
 ],
 "metadata": {
  "kernelspec": {
   "display_name": "Python 3 (ipykernel)",
   "language": "python",
   "name": "python3"
  },
  "language_info": {
   "codemirror_mode": {
    "name": "ipython",
    "version": 3
   },
   "file_extension": ".py",
   "mimetype": "text/x-python",
   "name": "python",
   "nbconvert_exporter": "python",
   "pygments_lexer": "ipython3",
   "version": "3.8.12"
  }
 },
 "nbformat": 4,
 "nbformat_minor": 5
}
