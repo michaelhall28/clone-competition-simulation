{
 "cells": [
  {
   "cell_type": "markdown",
   "id": "856724d2",
   "metadata": {},
   "source": [
    "This notebook explains the basics of running simulations and plotting the results.  \n",
    "See the subsequent notebooks for more in-depth guides to the various options available.  "
   ]
  },
  {
   "cell_type": "code",
   "execution_count": 1,
   "id": "82c3dd7f",
   "metadata": {
    "ExecuteTime": {
     "end_time": "2022-04-08T11:30:08.811287Z",
     "start_time": "2022-04-08T11:30:08.231852Z"
    }
   },
   "outputs": [],
   "source": [
    "# First, set up the notebook so that plots appear inline\n",
    "%matplotlib inline\n",
    "# and import numpy for setting the random seed\n",
    "import numpy as np"
   ]
  },
  {
   "cell_type": "markdown",
   "id": "d5dff8e6",
   "metadata": {},
   "source": [
    "# Setting up and running simulations"
   ]
  },
  {
   "cell_type": "code",
   "execution_count": 2,
   "id": "24a5d989",
   "metadata": {
    "ExecuteTime": {
     "end_time": "2022-04-08T11:30:09.536902Z",
     "start_time": "2022-04-08T11:30:08.820398Z"
    }
   },
   "outputs": [],
   "source": [
    "# Import the Parameters class. \n",
    "# This is used to set up all simulations\n",
    "from clone_competition_simulation import Parameters"
   ]
  },
  {
   "cell_type": "markdown",
   "id": "5cecff0a",
   "metadata": {},
   "source": [
    "The Parameters object is used to define all aspects of the simulation to be run. \n",
    "This includes\n",
    "- the algorithm used\n",
    "- the length of the simulation\n",
    "- the size of the cell population\n",
    "- the initial clones \n",
    "- any mutations that will appear during the simulation\n",
    "- and many more options \n",
    "\n",
    "For a more comprehensive list of options, see the Parameters docstring"
   ]
  },
  {
   "cell_type": "code",
   "execution_count": 3,
   "id": "d30901e4",
   "metadata": {
    "ExecuteTime": {
     "end_time": "2022-04-08T11:30:09.550390Z",
     "start_time": "2022-04-08T11:30:09.539963Z"
    }
   },
   "outputs": [
    {
     "name": "stdout",
     "output_type": "stream",
     "text": [
      "============== Setting up ==============\n",
      "10500 simulation_steps\n",
      "Using the default mutation rate: 0\n",
      "========================================\n"
     ]
    }
   ],
   "source": [
    "p = Parameters(\n",
    "    algorithm='Moran',  # We will run a non-spatial Moran simulation. \n",
    "    initial_size_array=[100, 100, 100],   # There are three initial clones, with 100 cells in each\n",
    "    fitness_array=[1, 1.02, 1.04],  # Each clone has a different fitness value\n",
    "    division_rate=1.4,  # Set average division rate for all cells is at 1.7 per time unit\n",
    "    max_time=25,  # Run for 10 time units\n",
    ")"
   ]
  },
  {
   "cell_type": "markdown",
   "id": "2877a7b4",
   "metadata": {},
   "source": [
    "Now that the parameters for the simulations have been defined, we can create and run the simulatiosn themselves"
   ]
  },
  {
   "cell_type": "code",
   "execution_count": 4,
   "id": "5b9f54c9",
   "metadata": {
    "ExecuteTime": {
     "end_time": "2022-04-08T11:30:09.893384Z",
     "start_time": "2022-04-08T11:30:09.555982Z"
    }
   },
   "outputs": [],
   "source": [
    "sim = p.get_simulator()\n",
    "sim.run_sim()"
   ]
  },
  {
   "cell_type": "markdown",
   "id": "68d809dd",
   "metadata": {},
   "source": [
    "If we want to run another simuation with the same parameters but a different random sequence, we can get another simulation from the parameters object"
   ]
  },
  {
   "cell_type": "code",
   "execution_count": 5,
   "id": "89364ec0",
   "metadata": {
    "ExecuteTime": {
     "end_time": "2022-04-08T11:30:10.199121Z",
     "start_time": "2022-04-08T11:30:09.898073Z"
    }
   },
   "outputs": [
    {
     "data": {
      "text/plain": [
       "False"
      ]
     },
     "execution_count": 5,
     "metadata": {},
     "output_type": "execute_result"
    }
   ],
   "source": [
    "sim2 = p.get_simulator()\n",
    "sim2.run_sim()\n",
    "\n",
    "# The results are not identical to the first simulation because the random sequences are different\n",
    "# E.g. the population arrays (which contain all of the clone sizes) are not the same\n",
    "np.all(sim.population_array.toarray() == sim2.population_array.toarray())"
   ]
  },
  {
   "cell_type": "markdown",
   "id": "9ed3e9a2",
   "metadata": {},
   "source": [
    "For reproducibility, you can set the numpy random seed before running the simulation"
   ]
  },
  {
   "cell_type": "code",
   "execution_count": 6,
   "id": "ea2e4f78",
   "metadata": {
    "ExecuteTime": {
     "end_time": "2022-04-08T11:30:10.796310Z",
     "start_time": "2022-04-08T11:30:10.202356Z"
    }
   },
   "outputs": [
    {
     "data": {
      "text/plain": [
       "True"
      ]
     },
     "execution_count": 6,
     "metadata": {},
     "output_type": "execute_result"
    }
   ],
   "source": [
    "sim3 = p.get_simulator()\n",
    "np.random.seed(0)\n",
    "sim3.run_sim()\n",
    "\n",
    "sim4 = p.get_simulator()\n",
    "np.random.seed(0)\n",
    "sim4.run_sim()\n",
    "\n",
    "# Here the population arrays are equal\n",
    "np.all(sim3.population_array.toarray() == sim4.population_array.toarray())"
   ]
  },
  {
   "cell_type": "markdown",
   "id": "f2c094c4",
   "metadata": {},
   "source": [
    "# Viewing simulation results"
   ]
  },
  {
   "cell_type": "markdown",
   "id": "0d68a658",
   "metadata": {},
   "source": [
    "The simulation has now been run, and we can look at some of the simulation results. This is just a few quick examples.     \n",
    "The particular functions appropriate for extracting and plotting the results will depend on the setup of the simulations, in particular whether new mutations occur during the simulations or whether they all mutations/clones in the simulation exist from the start.   \n",
    "See the other tutorial notebooks for further details. "
   ]
  },
  {
   "cell_type": "code",
   "execution_count": 12,
   "id": "ea6be2a0",
   "metadata": {
    "ExecuteTime": {
     "end_time": "2022-04-08T11:32:48.177153Z",
     "start_time": "2022-04-08T11:32:48.150521Z"
    }
   },
   "outputs": [
    {
     "data": {
      "text/html": [
       "<div>\n",
       "<style scoped>\n",
       "    .dataframe tbody tr th:only-of-type {\n",
       "        vertical-align: middle;\n",
       "    }\n",
       "\n",
       "    .dataframe tbody tr th {\n",
       "        vertical-align: top;\n",
       "    }\n",
       "\n",
       "    .dataframe thead th {\n",
       "        text-align: right;\n",
       "    }\n",
       "</style>\n",
       "<table border=\"1\" class=\"dataframe\">\n",
       "  <thead>\n",
       "    <tr style=\"text-align: right;\">\n",
       "      <th></th>\n",
       "      <th>clone id</th>\n",
       "      <th>label</th>\n",
       "      <th>fitness</th>\n",
       "      <th>generation born</th>\n",
       "      <th>parent clone id</th>\n",
       "      <th>last gene mutated</th>\n",
       "    </tr>\n",
       "  </thead>\n",
       "  <tbody>\n",
       "    <tr>\n",
       "      <th>0</th>\n",
       "      <td>0</td>\n",
       "      <td>0</td>\n",
       "      <td>1.00</td>\n",
       "      <td>0</td>\n",
       "      <td>-1</td>\n",
       "      <td>None</td>\n",
       "    </tr>\n",
       "    <tr>\n",
       "      <th>1</th>\n",
       "      <td>1</td>\n",
       "      <td>0</td>\n",
       "      <td>1.02</td>\n",
       "      <td>0</td>\n",
       "      <td>-1</td>\n",
       "      <td>None</td>\n",
       "    </tr>\n",
       "    <tr>\n",
       "      <th>2</th>\n",
       "      <td>2</td>\n",
       "      <td>0</td>\n",
       "      <td>1.04</td>\n",
       "      <td>0</td>\n",
       "      <td>-1</td>\n",
       "      <td>None</td>\n",
       "    </tr>\n",
       "  </tbody>\n",
       "</table>\n",
       "</div>"
      ],
      "text/plain": [
       "   clone id  label  fitness  generation born  parent clone id  \\\n",
       "0         0      0     1.00                0               -1   \n",
       "1         1      0     1.02                0               -1   \n",
       "2         2      0     1.04                0               -1   \n",
       "\n",
       "  last gene mutated  \n",
       "0              None  \n",
       "1              None  \n",
       "2              None  "
      ]
     },
     "execution_count": 12,
     "metadata": {},
     "output_type": "execute_result"
    }
   ],
   "source": [
    "# You can see some information on the clones in the simulation\n",
    "# This function returns a more readable version of the sim.clones_array which stores this information\n",
    "sim2.view_clone_info()"
   ]
  },
  {
   "cell_type": "code",
   "execution_count": 8,
   "id": "ecdf1669",
   "metadata": {
    "ExecuteTime": {
     "end_time": "2022-04-08T11:30:11.028696Z",
     "start_time": "2022-04-08T11:30:10.829342Z"
    },
    "scrolled": false
   },
   "outputs": [
    {
     "data": {
      "image/png": "[encoded data removed]",
      "text/plain": [
       "<Figure size 360x360 with 1 Axes>"
      ]
     },
     "metadata": {
      "needs_background": "light"
     },
     "output_type": "display_data"
    }
   ],
   "source": [
    "# The Muller plot shows the sizes of each clone over time\n",
    "sim.muller_plot(figsize=(5, 5));"
   ]
  },
  {
   "cell_type": "code",
   "execution_count": 9,
   "id": "74135278",
   "metadata": {
    "ExecuteTime": {
     "end_time": "2022-04-08T11:30:11.048448Z",
     "start_time": "2022-04-08T11:30:11.032254Z"
    }
   },
   "outputs": [
    {
     "data": {
      "text/plain": [
       "array([[100., 109., 115., 113., 115., 102.,  94.,  95.,  93.,  88.,  89.,\n",
       "         96.,  92.,  89.,  84.,  90.,  90.,  93.,  87.,  90.,  92.,  92.,\n",
       "         96.,  89., 103.,  99., 109.,  96., 102.,  99.,  96.,  94.,  98.,\n",
       "         92.,  75.,  66.,  69.,  68.,  72.,  67.,  64.,  50.,  53.,  44.,\n",
       "         45.,  35.,  29.,  25.,  16.,  16.,  21.,  22.,  23.,  22.,  21.,\n",
       "         18.,  16.,  15.,  19.,  20.,  22.,  19.,  19.,  14.,  13.,  14.,\n",
       "         14.,  14.,  15.,  12.,  10.,  10.,   9.,   7.,  11.,  11.,   9.,\n",
       "          3.,   1.,   1.,   0.,   0.,   0.,   0.,   0.,   0.,   0.,   0.,\n",
       "          0.,   0.,   0.,   0.,   0.,   0.,   0.,   0.,   0.,   0.,   0.,\n",
       "          0.,   0.],\n",
       "       [100.,  89.,  81.,  70.,  77.,  83.,  88.,  96.,  96.,  98.,  87.,\n",
       "         84.,  84.,  89.,  90.,  91.,  97.,  89.,  95., 108., 110., 113.,\n",
       "        111., 114., 104., 103., 101., 101.,  90.,  89.,  87.,  78.,  78.,\n",
       "         72.,  71.,  75.,  68.,  62.,  58.,  57.,  46.,  40.,  31.,  31.,\n",
       "         31.,  32.,  31.,  36.,  40.,  36.,  37.,  34.,  25.,  24.,  23.,\n",
       "         21.,  24.,  27.,  27.,  27.,  31.,  40.,  30.,  32.,  36.,  42.,\n",
       "         40.,  40.,  35.,  35.,  33.,  32.,  39.,  38.,  31.,  36.,  34.,\n",
       "         38.,  34.,  39.,  34.,  37.,  34.,  31.,  29.,  34.,  29.,  25.,\n",
       "         25.,  23.,  23.,  19.,  14.,  20.,  14.,  11.,  13.,  15.,  15.,\n",
       "         15.,  11.],\n",
       "       [100., 102., 104., 117., 108., 115., 118., 109., 111., 114., 124.,\n",
       "        120., 124., 122., 126., 119., 113., 118., 118., 102.,  98.,  95.,\n",
       "         93.,  97.,  93.,  98.,  90., 103., 108., 112., 117., 128., 124.,\n",
       "        136., 154., 159., 163., 170., 170., 176., 190., 210., 216., 225.,\n",
       "        224., 233., 240., 239., 244., 248., 242., 244., 252., 254., 256.,\n",
       "        261., 260., 258., 254., 253., 247., 241., 251., 254., 251., 244.,\n",
       "        246., 246., 250., 253., 257., 258., 252., 255., 258., 253., 257.,\n",
       "        259., 265., 260., 266., 263., 266., 269., 271., 266., 271., 275.,\n",
       "        275., 277., 277., 281., 286., 280., 286., 289., 287., 285., 285.,\n",
       "        285., 289.]])"
      ]
     },
     "execution_count": 9,
     "metadata": {},
     "output_type": "execute_result"
    }
   ],
   "source": [
    "# The population array stores the clone sizes. \n",
    "# Each row is a unique clone. If new mutations occur, they start on a new row. \n",
    "# It is a scipy.sparse array, so use .toarray() to convert to a numpy array\n",
    "sim.population_array.toarray()"
   ]
  },
  {
   "cell_type": "code",
   "execution_count": 10,
   "id": "e952759c",
   "metadata": {
    "ExecuteTime": {
     "end_time": "2022-04-08T11:30:11.128863Z",
     "start_time": "2022-04-08T11:30:11.055007Z"
    }
   },
   "outputs": [
    {
     "data": {
      "text/plain": [
       "array([ 0.  ,  0.25,  0.5 ,  0.75,  1.  ,  1.25,  1.5 ,  1.75,  2.  ,\n",
       "        2.25,  2.5 ,  2.75,  3.  ,  3.25,  3.5 ,  3.75,  4.  ,  4.25,\n",
       "        4.5 ,  4.75,  5.  ,  5.25,  5.5 ,  5.75,  6.  ,  6.25,  6.5 ,\n",
       "        6.75,  7.  ,  7.25,  7.5 ,  7.75,  8.  ,  8.25,  8.5 ,  8.75,\n",
       "        9.  ,  9.25,  9.5 ,  9.75, 10.  , 10.25, 10.5 , 10.75, 11.  ,\n",
       "       11.25, 11.5 , 11.75, 12.  , 12.25, 12.5 , 12.75, 13.  , 13.25,\n",
       "       13.5 , 13.75, 14.  , 14.25, 14.5 , 14.75, 15.  , 15.25, 15.5 ,\n",
       "       15.75, 16.  , 16.25, 16.5 , 16.75, 17.  , 17.25, 17.5 , 17.75,\n",
       "       18.  , 18.25, 18.5 , 18.75, 19.  , 19.25, 19.5 , 19.75, 20.  ,\n",
       "       20.25, 20.5 , 20.75, 21.  , 21.25, 21.5 , 21.75, 22.  , 22.25,\n",
       "       22.5 , 22.75, 23.  , 23.25, 23.5 , 23.75, 24.  , 24.25, 24.5 ,\n",
       "       24.75, 25.  ])"
      ]
     },
     "execution_count": 10,
     "metadata": {},
     "output_type": "execute_result"
    }
   ],
   "source": [
    "# The times in the simulation (which correspond to the columns in sim.population_array) can be accessed\n",
    "sim.times"
   ]
  },
  {
   "cell_type": "code",
   "execution_count": 11,
   "id": "81348f38",
   "metadata": {
    "ExecuteTime": {
     "end_time": "2022-04-08T11:30:11.364456Z",
     "start_time": "2022-04-08T11:30:11.144675Z"
    }
   },
   "outputs": [
    {
     "data": {
      "image/png": "[encoded data removed]",
      "text/plain": [
       "<Figure size 432x288 with 1 Axes>"
      ]
     },
     "metadata": {
      "needs_background": "light"
     },
     "output_type": "display_data"
    }
   ],
   "source": [
    "# And various other plotting functions are available. These will be shown in other tutorial notebooks.  \n",
    "sim.plot_average_fitness_over_time()"
   ]
  },
  {
   "cell_type": "code",
   "execution_count": null,
   "id": "4ebedd3d",
   "metadata": {},
   "outputs": [],
   "source": []
  }
 ],
 "metadata": {
  "kernelspec": {
   "display_name": "Python 3 (ipykernel)",
   "language": "python",
   "name": "python3"
  },
  "language_info": {
   "codemirror_mode": {
    "name": "ipython",
    "version": 3
   },
   "file_extension": ".py",
   "mimetype": "text/x-python",
   "name": "python",
   "nbconvert_exporter": "python",
   "pygments_lexer": "ipython3",
   "version": "3.8.12"
  }
 },
 "nbformat": 4,
 "nbformat_minor": 5
}
