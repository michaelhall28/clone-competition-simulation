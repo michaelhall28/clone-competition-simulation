{
 "cells": [
  {
   "cell_type": "markdown",
   "id": "4e1177f9",
   "metadata": {},
   "source": [
    "In the single progenitor model from Clayton et al, there are two types of basal cells: progenitor cells and differentiated cells.  \n",
    "The differentiated cells no longer divide, and are just temporarily in the basal layer until they stratify into the suprabasal layers.   \n",
    "The total clone size distribution (including both progenitor and differentiated cells) can be approximated by scaling the clone sizes using progenitor cells only.   \n",
    "\n",
    "Most of the simulations run by this software can be thought of as either \n",
    "- ignoring the differentiated cells (and the full clone sizes can be obtained by scaling)\n",
    "- or can be considered as a simulation of the whole of the basal layer, but with less control over the relative rates of division and stratification.   \n",
    "\n",
    "There is also an option in the Branching, Moran and Moran2D simulations to explicitly simulate the number of differentiated cells. It is important to note though that the differentiated cells do not in any way affect the behaviour of the progenitor cells. They have no physical position on the 2D grids for example.   \n"
   ]
  },
  {
   "cell_type": "markdown",
   "id": "f2a0684e",
   "metadata": {},
   "source": [
    "There are two new parameters to define to simulate the differentiated cells: r and gamma.  \n",
    "\n",
    "r is the proportion of cell divisions that are symmetrical, i.e. that produce either two progenitor cells or two differentiated cells. The simulations of differentiated cells essentially \n",
    "- track the differentiated cells produced by the symmetric differentiation divisions\n",
    "- additionally simulate the asymmetric divisions (that produce one progenitor and one differentiated cell).\n",
    "\n",
    "gamma is the stratification rate of the differentiated cells.  "
   ]
  },
  {
   "cell_type": "markdown",
   "id": "76c76297",
   "metadata": {},
   "source": [
    "All simulations start with proliferative cells only. "
   ]
  },
  {
   "cell_type": "markdown",
   "id": "a6b4f306",
   "metadata": {},
   "source": [
    "These simulations are not often used and not all features/plots are adapted to include the differentiated cells.   \n",
    "If in doubt, you can calculate the results you need from the sim.population_array (which contains the proliferative cell counts) and the sim.diff_cell_population array (which contains the differentatiated cell counts). "
   ]
  },
  {
   "cell_type": "code",
   "execution_count": 1,
   "id": "52aa9f48",
   "metadata": {
    "ExecuteTime": {
     "end_time": "2022-04-21T13:34:18.682998Z",
     "start_time": "2022-04-21T13:34:18.090371Z"
    }
   },
   "outputs": [],
   "source": [
    "import numpy as np\n",
    "import matplotlib.pyplot as plt\n",
    "%matplotlib inline"
   ]
  },
  {
   "cell_type": "code",
   "execution_count": 2,
   "id": "937aa223",
   "metadata": {
    "ExecuteTime": {
     "end_time": "2022-04-21T13:34:19.422569Z",
     "start_time": "2022-04-21T13:34:18.686877Z"
    }
   },
   "outputs": [],
   "source": [
    "from clone_competition_simulation import Parameters"
   ]
  },
  {
   "cell_type": "code",
   "execution_count": 3,
   "id": "29cc0344",
   "metadata": {
    "ExecuteTime": {
     "end_time": "2022-04-21T13:34:25.728449Z",
     "start_time": "2022-04-21T13:34:19.426045Z"
    }
   },
   "outputs": [],
   "source": [
    "# To explicitly simulate the differentiated cells, define the r and gamma parameters\n",
    "p = Parameters(algorithm='Moran', initial_size_array=np.ones(5000), print_warnings=False, \n",
    "              r=0.15, gamma=3)\n",
    "s = p.get_simulator()\n",
    "s.run_sim()"
   ]
  },
  {
   "cell_type": "code",
   "execution_count": 4,
   "id": "61f15e1b",
   "metadata": {
    "ExecuteTime": {
     "end_time": "2022-04-21T13:34:25.745045Z",
     "start_time": "2022-04-21T13:34:25.732659Z"
    }
   },
   "outputs": [
    {
     "data": {
      "text/plain": [
       "(<5000x101 sparse matrix of type '<class 'numpy.float64'>'\n",
       " \twith 121665 stored elements in List of Lists format>,\n",
       " <5000x101 sparse matrix of type '<class 'numpy.float64'>'\n",
       " \twith 134830 stored elements in List of Lists format>)"
      ]
     },
     "execution_count": 4,
     "metadata": {},
     "output_type": "execute_result"
    }
   ],
   "source": [
    "# The clone sizes are stored in two arrays, one for the progenitor cells (same as before), \n",
    "# and one for the differentiated cells\n",
    "\n",
    "# These two sparse matrices hold the cell numbers. \n",
    "# They have the same dimensions, and can be added to get the total basal clone sizes. \n",
    "s.population_array, s.diff_cell_population "
   ]
  },
  {
   "cell_type": "code",
   "execution_count": 5,
   "id": "24b72eaa",
   "metadata": {
    "ExecuteTime": {
     "end_time": "2022-04-21T13:34:25.764064Z",
     "start_time": "2022-04-21T13:34:25.748396Z"
    }
   },
   "outputs": [
    {
     "name": "stdout",
     "output_type": "stream",
     "text": [
      "Proliferative cells : [1 1 1 1 1 1 1 1]\n",
      "Differentiated cells: [0 0 2 2 2 2 2 2]\n",
      "Total cells         : [1 1 3 3 3 3 3 3]\n"
     ]
    }
   ],
   "source": [
    "# For example, to get the clone sizes for clone_id=4 over time, use row 4 of the arrays\n",
    "a_cells = s.population_array[4].toarray().astype(int)[0]\n",
    "b_cells = s.diff_cell_population[4].toarray().astype(int)[0]\n",
    "total_cells = a_cells + b_cells\n",
    "\n",
    "# Show the clone size (proliferative only, differentiated only, and total) at the first few sample times\n",
    "print('Proliferative cells :', a_cells[:8])\n",
    "print('Differentiated cells:', b_cells[:8])\n",
    "print('Total cells         :', total_cells[:8])"
   ]
  },
  {
   "cell_type": "code",
   "execution_count": 6,
   "id": "68689509",
   "metadata": {
    "ExecuteTime": {
     "end_time": "2022-04-21T13:34:25.820864Z",
     "start_time": "2022-04-21T13:34:25.769118Z"
    }
   },
   "outputs": [
    {
     "data": {
      "text/plain": [
       "(array([3343,  537,  346,  264,  172,  124,   76,   56,   32,   21,    9,\n",
       "           2,    1,    6,    3,    2,    3,    1,    0,    1,    1]),\n",
       " array([2750,  363,  259,  191,  202,  184,  127,  113,  109,  104,   93,\n",
       "          60,   65,   39,   46,   43,   47,   26,   28,   20,   25,   11,\n",
       "          13,   11,   11,    6,    6,    6,    6,    3,    5,    3,    3,\n",
       "           3,    4,    0,    3,    1,    0,    0,    2,    0,    3,    1,\n",
       "           0,    1,    0,    1,    0,    2,    0,    1]))"
      ]
     },
     "execution_count": 6,
     "metadata": {},
     "output_type": "execute_result"
    }
   ],
   "source": [
    "# You can get the non-mutant clone size distributions (lineage tracing-style) for the clones with and without the \n",
    "# differentiated cells using the include_diff_cells option.  \n",
    "(s.get_clone_size_distribution_for_non_mutation(include_diff_cells=False, t=2),\n",
    "s.get_clone_size_distribution_for_non_mutation(include_diff_cells=True, t=2))"
   ]
  },
  {
   "cell_type": "code",
   "execution_count": 7,
   "id": "3b968c66",
   "metadata": {
    "ExecuteTime": {
     "end_time": "2022-04-21T13:34:26.265127Z",
     "start_time": "2022-04-21T13:34:25.827248Z"
    }
   },
   "outputs": [
    {
     "data": {
      "image/png": "[encoded data removed]",
      "text/plain": [
       "<Figure size 432x288 with 1 Axes>"
      ]
     },
     "metadata": {
      "needs_background": "light"
     },
     "output_type": "display_data"
    }
   ],
   "source": [
    "# There is also an `include_diff_cells` option in some of the plotting functions\n",
    "s.plot_mean_clone_size_graph_for_non_mutation(include_diff_cells=False, show_spm_fit=False, \n",
    "                                              legend_label='Progenitor only')\n",
    "s.plot_mean_clone_size_graph_for_non_mutation(include_diff_cells=True, show_spm_fit=False, ax=plt.gca(), \n",
    "                                             legend_label='Progenitor + differentiated')\n",
    "plt.legend();"
   ]
  },
  {
   "cell_type": "code",
   "execution_count": 8,
   "id": "3e5539bb",
   "metadata": {
    "ExecuteTime": {
     "end_time": "2022-04-21T13:34:26.447788Z",
     "start_time": "2022-04-21T13:34:26.270474Z"
    }
   },
   "outputs": [
    {
     "data": {
      "image/png": "[encoded data removed]",
      "text/plain": [
       "<Figure size 432x288 with 1 Axes>"
      ]
     },
     "metadata": {
      "needs_background": "light"
     },
     "output_type": "display_data"
    }
   ],
   "source": [
    "s.plot_clone_size_distribution_for_non_mutation(include_diff_cells=True, t=5)"
   ]
  },
  {
   "cell_type": "code",
   "execution_count": 9,
   "id": "ce19e369",
   "metadata": {
    "ExecuteTime": {
     "end_time": "2022-04-21T13:34:30.369506Z",
     "start_time": "2022-04-21T13:34:26.457177Z"
    }
   },
   "outputs": [
    {
     "name": "stdout",
     "output_type": "stream",
     "text": [
      "[ 3  8  1  5  1  3 13  1  9 19  1  1  6  4 13  1  5  2  2 11  2  7  4  2\n",
      "  4 17  2  3  9  8  8  1  2  4  1  8  2 14  1  2  6  3  1 11  9  5  5  9\n",
      "  1  2  1  2  8 11  4  3  4  1  4  5  3  1  2  4  2  2  2  4  1  1  5  1\n",
      "  3  3  1  2  1  2  1  1  1  2  1]\n"
     ]
    },
    {
     "data": {
      "text/plain": [
       "array([411,  23,  17,   8,   9,   6,   2,   1,   5,   4,   0,   3,   0,\n",
       "         2,   1,   0,   0,   1,   0,   1])"
      ]
     },
     "execution_count": 9,
     "metadata": {},
     "output_type": "execute_result"
    }
   ],
   "source": [
    "# And the same goes for simulations with ongoing mutations\n",
    "p = Parameters(algorithm='Moran', initial_cells=5000, print_warnings=False, \n",
    "               mutation_rates=0.01, r=0.15, gamma=3)\n",
    "s = p.get_simulator()\n",
    "s.run_sim()\n",
    "\n",
    "# Get the mutant clone sizes\n",
    "print(s.get_mutant_clone_sizes(include_diff_cells=True, t=3, non_zero_only=True))\n",
    "# Or the distribution of clone sizes (np.bincount)\n",
    "s.get_mutant_clone_size_distribution(include_diff_cells=True, t=3)"
   ]
  },
  {
   "cell_type": "markdown",
   "id": "26a88eec",
   "metadata": {},
   "source": [
    "# Speeding up simulations"
   ]
  },
  {
   "cell_type": "markdown",
   "id": "88ad5da6",
   "metadata": {},
   "source": [
    "The creation and death/stratification of many differentiated cells have to simulated.  \n",
    "For simulations with long gaps between sampling points, many of the differentiated cells may be born and die without being 'observed' at a sampling point. Since the differentiated cells also have no affect on any other cells, this means the 'unobserved' differentiated cells use computational resources but have no impact on the results at all.   \n",
    "\n",
    "It is possible to skip the simulation of the differentiated cells that are born a long time before the next sampling point and are very likely to die without being recorded. In some cases, this can substantially reduce the simulation time.  \n",
    "The stratification times are drawn from an exponential distribution, meaning there is no upper limit and we cannot guarantee that a cell won't survive until the next sampling point unless we simulate it (draw that random stratification time). Instead, it is set at a probability, so that cells with, say, a greater than 99.9% chance of dying before the next sampling point will not be simulated. This may lead to a very slight underestimate of the clone sizes.   \n"
   ]
  },
  {
   "cell_type": "code",
   "execution_count": 10,
   "id": "568970b3",
   "metadata": {
    "ExecuteTime": {
     "end_time": "2022-04-21T13:34:43.352944Z",
     "start_time": "2022-04-21T13:34:30.379168Z"
    }
   },
   "outputs": [
    {
     "name": "stdout",
     "output_type": "stream",
     "text": [
      "CPU times: user 12.9 s, sys: 116 ms, total: 13 s\n",
      "Wall time: 13 s\n"
     ]
    }
   ],
   "source": [
    "%%time\n",
    "# Time a simulation with no differentiated cells simulated. \n",
    "# Only record clone sizes at a couple of widely spaced time points. \n",
    "p = Parameters(algorithm='Moran2D', initial_grid=np.arange(10000).reshape(100, 100), \n",
    "               times=[0, 20, 40], print_warnings=False\n",
    "              )\n",
    "s = p.get_simulator()\n",
    "s.run_sim()"
   ]
  },
  {
   "cell_type": "code",
   "execution_count": 11,
   "id": "a242ff14",
   "metadata": {
    "ExecuteTime": {
     "end_time": "2022-04-21T13:35:24.395957Z",
     "start_time": "2022-04-21T13:34:43.356858Z"
    }
   },
   "outputs": [
    {
     "name": "stdout",
     "output_type": "stream",
     "text": [
      "CPU times: user 40.4 s, sys: 391 ms, total: 40.8 s\n",
      "Wall time: 41 s\n"
     ]
    }
   ],
   "source": [
    "%%time\n",
    "# Simulate with differentiated cells. \n",
    "# It takes much longer because of all of the extra differentiated cells that need to be simulated. \n",
    "np.random.seed(0)\n",
    "p = Parameters(algorithm='Moran2D', initial_grid=np.arange(10000).reshape(100, 100), \n",
    "               times=[0, 20, 40], print_warnings=False,\n",
    "               r=0.15, gamma=6,\n",
    "              )\n",
    "s = p.get_simulator()\n",
    "s.run_sim()"
   ]
  },
  {
   "cell_type": "code",
   "execution_count": 12,
   "id": "faf0a7ab",
   "metadata": {
    "ExecuteTime": {
     "end_time": "2022-04-21T13:35:39.166169Z",
     "start_time": "2022-04-21T13:35:24.399732Z"
    }
   },
   "outputs": [
    {
     "name": "stdout",
     "output_type": "stream",
     "text": [
      "CPU times: user 14.6 s, sys: 102 ms, total: 14.7 s\n",
      "Wall time: 14.8 s\n"
     ]
    }
   ],
   "source": [
    "%%time\n",
    "# Only simulating differentiated cells with a 99.9% chance of being 'observed' \n",
    "# substantially speeds up the simulation\n",
    "np.random.seed(0)\n",
    "p = Parameters(algorithm='Moran2D', initial_grid=np.arange(10000).reshape(100, 100), \n",
    "               times=[0, 20, 40], print_warnings=False,\n",
    "               r=0.15, gamma=6, \n",
    "               stratification_sim_percentile=0.999\n",
    "              )\n",
    "s2 = p.get_simulator()\n",
    "s2.run_sim()"
   ]
  },
  {
   "cell_type": "code",
   "execution_count": 13,
   "id": "807ce00c",
   "metadata": {
    "ExecuteTime": {
     "end_time": "2022-04-21T13:35:39.402390Z",
     "start_time": "2022-04-21T13:35:39.169766Z"
    }
   },
   "outputs": [
    {
     "data": {
      "image/png": "[encoded data removed]",
      "text/plain": [
       "<Figure size 432x288 with 1 Axes>"
      ]
     },
     "metadata": {
      "needs_background": "light"
     },
     "output_type": "display_data"
    }
   ],
   "source": [
    "# The partial simulation of differentiated cells is far faster, and still quite similar to the full simulation\n",
    "# (stochasticity also causes some differences here)\n",
    "s.plot_mean_clone_size_graph_for_non_mutation(include_diff_cells=True, show_spm_fit=False, \n",
    "                                              legend_label='Full simulation', \n",
    "                                              plot_kwargs={'marker': 'x'})\n",
    "s2.plot_mean_clone_size_graph_for_non_mutation(include_diff_cells=True, ax=plt.gca(), show_spm_fit=False, \n",
    "                                              legend_label='Faster partial simulation', \n",
    "                                              plot_kwargs={'marker': 's', 'alpha': 0.5})\n",
    "plt.legend();"
   ]
  },
  {
   "cell_type": "code",
   "execution_count": null,
   "id": "9db3093f",
   "metadata": {},
   "outputs": [],
   "source": []
  }
 ],
 "metadata": {
  "kernelspec": {
   "display_name": "Python 3 (ipykernel)",
   "language": "python",
   "name": "python3"
  },
  "language_info": {
   "codemirror_mode": {
    "name": "ipython",
    "version": 3
   },
   "file_extension": ".py",
   "mimetype": "text/x-python",
   "name": "python",
   "nbconvert_exporter": "python",
   "pygments_lexer": "ipython3",
   "version": "3.8.12"
  }
 },
 "nbformat": 4,
 "nbformat_minor": 5
}
