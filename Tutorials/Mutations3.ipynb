{
 "cells": [
  {
   "cell_type": "markdown",
   "id": "cd2c210e",
   "metadata": {},
   "source": [
    "This notebook describes some of the more complex options for defining the fitness effects of mutations.  "
   ]
  },
  {
   "cell_type": "code",
   "execution_count": 1,
   "id": "c312696d",
   "metadata": {
    "ExecuteTime": {
     "end_time": "2022-04-12T14:52:00.319382Z",
     "start_time": "2022-04-12T14:51:59.707150Z"
    }
   },
   "outputs": [],
   "source": [
    "%matplotlib inline\n",
    "import numpy as np\n",
    "import matplotlib.pyplot as plt"
   ]
  },
  {
   "cell_type": "code",
   "execution_count": 2,
   "id": "d56ef760",
   "metadata": {
    "ExecuteTime": {
     "end_time": "2022-04-12T14:52:00.961074Z",
     "start_time": "2022-04-12T14:52:00.322694Z"
    }
   },
   "outputs": [],
   "source": [
    "from clone_competition_simulation import Parameters, Gene, MutationGenerator, FixedValue, UniformDist"
   ]
  },
  {
   "cell_type": "markdown",
   "id": "0c2f7c79",
   "metadata": {},
   "source": [
    "# multi_gene_array=False"
   ]
  },
  {
   "cell_type": "markdown",
   "id": "d443b564",
   "metadata": {},
   "source": [
    "This is the default and simplest option.  \n",
    "Each new mutation in a cell combines with the previous mutations without any regard for the gene it came from.  "
   ]
  },
  {
   "cell_type": "code",
   "execution_count": 3,
   "id": "2dafe71a",
   "metadata": {
    "ExecuteTime": {
     "end_time": "2022-04-12T14:52:01.012001Z",
     "start_time": "2022-04-12T14:52:00.963378Z"
    }
   },
   "outputs": [
    {
     "data": {
      "text/html": [
       "<div>\n",
       "<style scoped>\n",
       "    .dataframe tbody tr th:only-of-type {\n",
       "        vertical-align: middle;\n",
       "    }\n",
       "\n",
       "    .dataframe tbody tr th {\n",
       "        vertical-align: top;\n",
       "    }\n",
       "\n",
       "    .dataframe thead th {\n",
       "        text-align: right;\n",
       "    }\n",
       "</style>\n",
       "<table border=\"1\" class=\"dataframe\">\n",
       "  <thead>\n",
       "    <tr style=\"text-align: right;\">\n",
       "      <th></th>\n",
       "      <th>clone id</th>\n",
       "      <th>label</th>\n",
       "      <th>fitness</th>\n",
       "      <th>generation born</th>\n",
       "      <th>parent clone id</th>\n",
       "      <th>last gene mutated</th>\n",
       "    </tr>\n",
       "  </thead>\n",
       "  <tbody>\n",
       "    <tr>\n",
       "      <th>0</th>\n",
       "      <td>0</td>\n",
       "      <td>0</td>\n",
       "      <td>1.000</td>\n",
       "      <td>0</td>\n",
       "      <td>-1</td>\n",
       "      <td>None</td>\n",
       "    </tr>\n",
       "    <tr>\n",
       "      <th>1</th>\n",
       "      <td>1</td>\n",
       "      <td>0</td>\n",
       "      <td>1.100</td>\n",
       "      <td>0</td>\n",
       "      <td>-1</td>\n",
       "      <td>None</td>\n",
       "    </tr>\n",
       "    <tr>\n",
       "      <th>2</th>\n",
       "      <td>2</td>\n",
       "      <td>0</td>\n",
       "      <td>1.200</td>\n",
       "      <td>0</td>\n",
       "      <td>-1</td>\n",
       "      <td>None</td>\n",
       "    </tr>\n",
       "    <tr>\n",
       "      <th>3</th>\n",
       "      <td>3</td>\n",
       "      <td>0</td>\n",
       "      <td>1.300</td>\n",
       "      <td>0</td>\n",
       "      <td>-1</td>\n",
       "      <td>None</td>\n",
       "    </tr>\n",
       "    <tr>\n",
       "      <th>4</th>\n",
       "      <td>4</td>\n",
       "      <td>0</td>\n",
       "      <td>1.320</td>\n",
       "      <td>22</td>\n",
       "      <td>2</td>\n",
       "      <td>Gene1</td>\n",
       "    </tr>\n",
       "    <tr>\n",
       "      <th>5</th>\n",
       "      <td>5</td>\n",
       "      <td>0</td>\n",
       "      <td>1.452</td>\n",
       "      <td>32</td>\n",
       "      <td>4</td>\n",
       "      <td>Gene1</td>\n",
       "    </tr>\n",
       "    <tr>\n",
       "      <th>6</th>\n",
       "      <td>6</td>\n",
       "      <td>0</td>\n",
       "      <td>1.452</td>\n",
       "      <td>39</td>\n",
       "      <td>4</td>\n",
       "      <td>Gene1</td>\n",
       "    </tr>\n",
       "  </tbody>\n",
       "</table>\n",
       "</div>"
      ],
      "text/plain": [
       "   clone id  label  fitness  generation born  parent clone id  \\\n",
       "0         0      0    1.000                0               -1   \n",
       "1         1      0    1.100                0               -1   \n",
       "2         2      0    1.200                0               -1   \n",
       "3         3      0    1.300                0               -1   \n",
       "4         4      0    1.320               22                2   \n",
       "5         5      0    1.452               32                4   \n",
       "6         6      0    1.452               39                4   \n",
       "\n",
       "  last gene mutated  \n",
       "0              None  \n",
       "1              None  \n",
       "2              None  \n",
       "3              None  \n",
       "4             Gene1  \n",
       "5             Gene1  \n",
       "6             Gene1  "
      ]
     },
     "execution_count": 3,
     "metadata": {},
     "output_type": "execute_result"
    }
   ],
   "source": [
    "# Run a simulation where all new mutations have a fitness of 1.1\n",
    "# These multiply the previous fitness of the cell\n",
    "mut_gen = MutationGenerator(genes=[Gene('Gene1', FixedValue(1.1), synonymous_proportion=0)], \n",
    "                           combine_mutations='multiply'  # This is the default option\n",
    "                           )\n",
    "\n",
    "# The prexisting mutations have different fitness values\n",
    "np.random.seed(1)\n",
    "p = Parameters(algorithm='Moran', initial_size_array=np.ones(4), fitness_array=np.linspace(1, 1.3, 4), \n",
    "               mutation_generator=mut_gen, mutation_rates=0.1,\n",
    "               print_warnings=False)\n",
    "s = p.get_simulator()\n",
    "s.run_sim()\n",
    "\n",
    "s.view_clone_info()\n",
    "# The fitness of clone_id 4 is 1.32 = 1.2 (the fitness of the parent clone 2) x 1.1 (the fitness of the new mut)\n",
    "# The fitness of clone_id 5 is 1.452 = 1.32 (the fitness of the parent clone 4) x 1.1 (the fitness of the new mut)"
   ]
  },
  {
   "cell_type": "code",
   "execution_count": 4,
   "id": "fe34cb6e",
   "metadata": {
    "ExecuteTime": {
     "end_time": "2022-04-12T14:52:01.040707Z",
     "start_time": "2022-04-12T14:52:01.025098Z"
    }
   },
   "outputs": [
    {
     "data": {
      "text/plain": [
       "array([[1.   ],\n",
       "       [1.1  ],\n",
       "       [1.2  ],\n",
       "       [1.3  ],\n",
       "       [1.32 ],\n",
       "       [1.452],\n",
       "       [1.452]])"
      ]
     },
     "execution_count": 4,
     "metadata": {},
     "output_type": "execute_result"
    }
   ],
   "source": [
    "# For comparison with later, this is the raw_fitness_array, used to calculate the overall fitness\n",
    "# With multi_gene_array=False it is not very interesting, just one column\n",
    "s.raw_fitness_array"
   ]
  },
  {
   "cell_type": "code",
   "execution_count": 5,
   "id": "655dbb70",
   "metadata": {
    "ExecuteTime": {
     "end_time": "2022-04-12T14:52:01.070718Z",
     "start_time": "2022-04-12T14:52:01.055092Z"
    }
   },
   "outputs": [
    {
     "data": {
      "text/plain": [
       "('multiply', 'add', 'replace', 'max', 'min')"
      ]
     },
     "execution_count": 5,
     "metadata": {},
     "output_type": "execute_result"
    }
   ],
   "source": [
    "# There are various other options as well as fitness multiplication\n",
    "MutationGenerator.combine_options"
   ]
  },
  {
   "cell_type": "code",
   "execution_count": 6,
   "id": "8d790e19",
   "metadata": {
    "ExecuteTime": {
     "end_time": "2022-04-12T14:52:01.152183Z",
     "start_time": "2022-04-12T14:52:01.086636Z"
    }
   },
   "outputs": [
    {
     "data": {
      "text/html": [
       "<div>\n",
       "<style scoped>\n",
       "    .dataframe tbody tr th:only-of-type {\n",
       "        vertical-align: middle;\n",
       "    }\n",
       "\n",
       "    .dataframe tbody tr th {\n",
       "        vertical-align: top;\n",
       "    }\n",
       "\n",
       "    .dataframe thead th {\n",
       "        text-align: right;\n",
       "    }\n",
       "</style>\n",
       "<table border=\"1\" class=\"dataframe\">\n",
       "  <thead>\n",
       "    <tr style=\"text-align: right;\">\n",
       "      <th></th>\n",
       "      <th>clone id</th>\n",
       "      <th>label</th>\n",
       "      <th>fitness</th>\n",
       "      <th>generation born</th>\n",
       "      <th>parent clone id</th>\n",
       "      <th>last gene mutated</th>\n",
       "    </tr>\n",
       "  </thead>\n",
       "  <tbody>\n",
       "    <tr>\n",
       "      <th>0</th>\n",
       "      <td>0</td>\n",
       "      <td>0</td>\n",
       "      <td>1.0</td>\n",
       "      <td>0</td>\n",
       "      <td>-1</td>\n",
       "      <td>None</td>\n",
       "    </tr>\n",
       "    <tr>\n",
       "      <th>1</th>\n",
       "      <td>1</td>\n",
       "      <td>0</td>\n",
       "      <td>1.1</td>\n",
       "      <td>0</td>\n",
       "      <td>-1</td>\n",
       "      <td>None</td>\n",
       "    </tr>\n",
       "    <tr>\n",
       "      <th>2</th>\n",
       "      <td>2</td>\n",
       "      <td>0</td>\n",
       "      <td>1.2</td>\n",
       "      <td>0</td>\n",
       "      <td>-1</td>\n",
       "      <td>None</td>\n",
       "    </tr>\n",
       "    <tr>\n",
       "      <th>3</th>\n",
       "      <td>3</td>\n",
       "      <td>0</td>\n",
       "      <td>1.3</td>\n",
       "      <td>0</td>\n",
       "      <td>-1</td>\n",
       "      <td>None</td>\n",
       "    </tr>\n",
       "    <tr>\n",
       "      <th>4</th>\n",
       "      <td>4</td>\n",
       "      <td>0</td>\n",
       "      <td>1.3</td>\n",
       "      <td>22</td>\n",
       "      <td>2</td>\n",
       "      <td>Gene1</td>\n",
       "    </tr>\n",
       "    <tr>\n",
       "      <th>5</th>\n",
       "      <td>5</td>\n",
       "      <td>0</td>\n",
       "      <td>1.4</td>\n",
       "      <td>32</td>\n",
       "      <td>4</td>\n",
       "      <td>Gene1</td>\n",
       "    </tr>\n",
       "    <tr>\n",
       "      <th>6</th>\n",
       "      <td>6</td>\n",
       "      <td>0</td>\n",
       "      <td>1.4</td>\n",
       "      <td>39</td>\n",
       "      <td>4</td>\n",
       "      <td>Gene1</td>\n",
       "    </tr>\n",
       "  </tbody>\n",
       "</table>\n",
       "</div>"
      ],
      "text/plain": [
       "   clone id  label  fitness  generation born  parent clone id  \\\n",
       "0         0      0      1.0                0               -1   \n",
       "1         1      0      1.1                0               -1   \n",
       "2         2      0      1.2                0               -1   \n",
       "3         3      0      1.3                0               -1   \n",
       "4         4      0      1.3               22                2   \n",
       "5         5      0      1.4               32                4   \n",
       "6         6      0      1.4               39                4   \n",
       "\n",
       "  last gene mutated  \n",
       "0              None  \n",
       "1              None  \n",
       "2              None  \n",
       "3              None  \n",
       "4             Gene1  \n",
       "5             Gene1  \n",
       "6             Gene1  "
      ]
     },
     "execution_count": 6,
     "metadata": {},
     "output_type": "execute_result"
    }
   ],
   "source": [
    "# For example, to add fitness values\n",
    "mut_gen = MutationGenerator(genes=[Gene('Gene1', FixedValue(1.1), synonymous_proportion=0)], \n",
    "                           combine_mutations='add'  # Using add instead\n",
    "                           )\n",
    "\n",
    "# The prexisting mutations have different fitness values\n",
    "np.random.seed(1)\n",
    "p = Parameters(algorithm='Moran', initial_size_array=np.ones(4), fitness_array=np.linspace(1, 1.3, 4), \n",
    "               mutation_generator=mut_gen, mutation_rates=0.1,\n",
    "               print_warnings=False)\n",
    "s = p.get_simulator()\n",
    "s.run_sim()\n",
    "\n",
    "s.view_clone_info()\n",
    "# Note this adds the fitness *advantage* from the new mutation. \n",
    "# So if the fitness is 1.1, there is a 0.1 advantage over neutral. \n",
    "# The fitness of clone_id 4 is now 1.3 = 1.2 + 0.1"
   ]
  },
  {
   "cell_type": "markdown",
   "id": "75164893",
   "metadata": {},
   "source": [
    "# multi_gene_array=True"
   ]
  },
  {
   "cell_type": "markdown",
   "id": "5bf2a5e3",
   "metadata": {},
   "source": [
    "This allows much more control on the combination of fitness, but is also more complicated.   \n",
    "\n",
    "The mutations from each gene are treated separately, and then combined after.  \n",
    "\n",
    "Mutations within each gene are combined based on MutationGenerator.combine_mutations  \n",
    "Fitness from all genes is then combined based on MutationGenerator.combine_array"
   ]
  },
  {
   "cell_type": "code",
   "execution_count": 7,
   "id": "65c6e09a",
   "metadata": {
    "ExecuteTime": {
     "end_time": "2022-04-12T14:52:01.225271Z",
     "start_time": "2022-04-12T14:52:01.158810Z"
    }
   },
   "outputs": [
    {
     "data": {
      "text/html": [
       "<div>\n",
       "<style scoped>\n",
       "    .dataframe tbody tr th:only-of-type {\n",
       "        vertical-align: middle;\n",
       "    }\n",
       "\n",
       "    .dataframe tbody tr th {\n",
       "        vertical-align: top;\n",
       "    }\n",
       "\n",
       "    .dataframe thead th {\n",
       "        text-align: right;\n",
       "    }\n",
       "</style>\n",
       "<table border=\"1\" class=\"dataframe\">\n",
       "  <thead>\n",
       "    <tr style=\"text-align: right;\">\n",
       "      <th></th>\n",
       "      <th>clone id</th>\n",
       "      <th>label</th>\n",
       "      <th>fitness</th>\n",
       "      <th>generation born</th>\n",
       "      <th>parent clone id</th>\n",
       "      <th>last gene mutated</th>\n",
       "    </tr>\n",
       "  </thead>\n",
       "  <tbody>\n",
       "    <tr>\n",
       "      <th>0</th>\n",
       "      <td>0</td>\n",
       "      <td>0</td>\n",
       "      <td>1.000</td>\n",
       "      <td>0</td>\n",
       "      <td>-1</td>\n",
       "      <td>None</td>\n",
       "    </tr>\n",
       "    <tr>\n",
       "      <th>1</th>\n",
       "      <td>1</td>\n",
       "      <td>0</td>\n",
       "      <td>1.100</td>\n",
       "      <td>0</td>\n",
       "      <td>-1</td>\n",
       "      <td>None</td>\n",
       "    </tr>\n",
       "    <tr>\n",
       "      <th>2</th>\n",
       "      <td>2</td>\n",
       "      <td>0</td>\n",
       "      <td>1.200</td>\n",
       "      <td>0</td>\n",
       "      <td>-1</td>\n",
       "      <td>None</td>\n",
       "    </tr>\n",
       "    <tr>\n",
       "      <th>3</th>\n",
       "      <td>3</td>\n",
       "      <td>0</td>\n",
       "      <td>1.300</td>\n",
       "      <td>0</td>\n",
       "      <td>-1</td>\n",
       "      <td>None</td>\n",
       "    </tr>\n",
       "    <tr>\n",
       "      <th>4</th>\n",
       "      <td>4</td>\n",
       "      <td>0</td>\n",
       "      <td>1.320</td>\n",
       "      <td>22</td>\n",
       "      <td>2</td>\n",
       "      <td>Gene1</td>\n",
       "    </tr>\n",
       "    <tr>\n",
       "      <th>5</th>\n",
       "      <td>5</td>\n",
       "      <td>0</td>\n",
       "      <td>1.452</td>\n",
       "      <td>32</td>\n",
       "      <td>4</td>\n",
       "      <td>Gene1</td>\n",
       "    </tr>\n",
       "    <tr>\n",
       "      <th>6</th>\n",
       "      <td>6</td>\n",
       "      <td>0</td>\n",
       "      <td>1.452</td>\n",
       "      <td>39</td>\n",
       "      <td>4</td>\n",
       "      <td>Gene1</td>\n",
       "    </tr>\n",
       "  </tbody>\n",
       "</table>\n",
       "</div>"
      ],
      "text/plain": [
       "   clone id  label  fitness  generation born  parent clone id  \\\n",
       "0         0      0    1.000                0               -1   \n",
       "1         1      0    1.100                0               -1   \n",
       "2         2      0    1.200                0               -1   \n",
       "3         3      0    1.300                0               -1   \n",
       "4         4      0    1.320               22                2   \n",
       "5         5      0    1.452               32                4   \n",
       "6         6      0    1.452               39                4   \n",
       "\n",
       "  last gene mutated  \n",
       "0              None  \n",
       "1              None  \n",
       "2              None  \n",
       "3              None  \n",
       "4             Gene1  \n",
       "5             Gene1  \n",
       "6             Gene1  "
      ]
     },
     "execution_count": 7,
     "metadata": {},
     "output_type": "execute_result"
    }
   ],
   "source": [
    "# This is the same simulation we ran before with multi_gene_array=False\n",
    "# Run a simulation where all new mutations have a fitness of 1.1\n",
    "# These multiply the previous fitness of the cell\n",
    "mut_gen = MutationGenerator(genes=[Gene('Gene1', FixedValue(1.1), synonymous_proportion=0)], \n",
    "                            multi_gene_array=True,\n",
    "                           combine_mutations='multiply', # This is the default option\n",
    "                            combine_array='multiply',  # This is also the default\n",
    "                           )\n",
    "\n",
    "# The prexisting mutations have different fitness values\n",
    "np.random.seed(1)\n",
    "p = Parameters(algorithm='Moran', initial_size_array=np.ones(4), fitness_array=np.linspace(1, 1.3, 4), \n",
    "               mutation_generator=mut_gen, mutation_rates=0.1,\n",
    "               print_warnings=False)\n",
    "s = p.get_simulator()\n",
    "s.run_sim()\n",
    "\n",
    "# The results are the same\n",
    "s.view_clone_info()"
   ]
  },
  {
   "cell_type": "code",
   "execution_count": 8,
   "id": "b2c50c93",
   "metadata": {
    "ExecuteTime": {
     "end_time": "2022-04-12T14:52:01.266071Z",
     "start_time": "2022-04-12T14:52:01.243142Z"
    }
   },
   "outputs": [
    {
     "data": {
      "text/plain": [
       "array([[1.  ,  nan],\n",
       "       [1.1 ,  nan],\n",
       "       [1.2 ,  nan],\n",
       "       [1.3 ,  nan],\n",
       "       [1.2 , 1.1 ],\n",
       "       [1.2 , 1.21],\n",
       "       [1.2 , 1.21]])"
      ]
     },
     "execution_count": 8,
     "metadata": {},
     "output_type": "execute_result"
    }
   ],
   "source": [
    "# But compare the raw_fitness_array to earlier.  \n",
    "# With multi_gene_array=True, this is now a multidimensional array\n",
    "# Each row is for a clone\n",
    "# The first column is a fitness from the initial clones (often wild type/neutral fitness)\n",
    "# The next set of columns contain the fitness from each gene. \n",
    "# The total fitness for each clone is calculated from all the values in each row\n",
    "# Here is it multplied because MutationGenerator.combine_array='multiply'\n",
    "s.raw_fitness_array"
   ]
  },
  {
   "cell_type": "code",
   "execution_count": 9,
   "id": "9d9c3c7b",
   "metadata": {
    "ExecuteTime": {
     "end_time": "2022-04-12T14:52:01.308641Z",
     "start_time": "2022-04-12T14:52:01.269424Z"
    }
   },
   "outputs": [
    {
     "data": {
      "text/html": [
       "<div>\n",
       "<style scoped>\n",
       "    .dataframe tbody tr th:only-of-type {\n",
       "        vertical-align: middle;\n",
       "    }\n",
       "\n",
       "    .dataframe tbody tr th {\n",
       "        vertical-align: top;\n",
       "    }\n",
       "\n",
       "    .dataframe thead th {\n",
       "        text-align: right;\n",
       "    }\n",
       "</style>\n",
       "<table border=\"1\" class=\"dataframe\">\n",
       "  <thead>\n",
       "    <tr style=\"text-align: right;\">\n",
       "      <th></th>\n",
       "      <th>clone id</th>\n",
       "      <th>label</th>\n",
       "      <th>fitness</th>\n",
       "      <th>generation born</th>\n",
       "      <th>parent clone id</th>\n",
       "      <th>last gene mutated</th>\n",
       "      <th>Initial clone fitness</th>\n",
       "      <th>Gene1</th>\n",
       "    </tr>\n",
       "  </thead>\n",
       "  <tbody>\n",
       "    <tr>\n",
       "      <th>0</th>\n",
       "      <td>0</td>\n",
       "      <td>0</td>\n",
       "      <td>1.000</td>\n",
       "      <td>0</td>\n",
       "      <td>-1</td>\n",
       "      <td>None</td>\n",
       "      <td>1.0</td>\n",
       "      <td>NaN</td>\n",
       "    </tr>\n",
       "    <tr>\n",
       "      <th>1</th>\n",
       "      <td>1</td>\n",
       "      <td>0</td>\n",
       "      <td>1.100</td>\n",
       "      <td>0</td>\n",
       "      <td>-1</td>\n",
       "      <td>None</td>\n",
       "      <td>1.1</td>\n",
       "      <td>NaN</td>\n",
       "    </tr>\n",
       "    <tr>\n",
       "      <th>2</th>\n",
       "      <td>2</td>\n",
       "      <td>0</td>\n",
       "      <td>1.200</td>\n",
       "      <td>0</td>\n",
       "      <td>-1</td>\n",
       "      <td>None</td>\n",
       "      <td>1.2</td>\n",
       "      <td>NaN</td>\n",
       "    </tr>\n",
       "    <tr>\n",
       "      <th>3</th>\n",
       "      <td>3</td>\n",
       "      <td>0</td>\n",
       "      <td>1.300</td>\n",
       "      <td>0</td>\n",
       "      <td>-1</td>\n",
       "      <td>None</td>\n",
       "      <td>1.3</td>\n",
       "      <td>NaN</td>\n",
       "    </tr>\n",
       "    <tr>\n",
       "      <th>4</th>\n",
       "      <td>4</td>\n",
       "      <td>0</td>\n",
       "      <td>1.320</td>\n",
       "      <td>22</td>\n",
       "      <td>2</td>\n",
       "      <td>Gene1</td>\n",
       "      <td>1.2</td>\n",
       "      <td>1.10</td>\n",
       "    </tr>\n",
       "    <tr>\n",
       "      <th>5</th>\n",
       "      <td>5</td>\n",
       "      <td>0</td>\n",
       "      <td>1.452</td>\n",
       "      <td>32</td>\n",
       "      <td>4</td>\n",
       "      <td>Gene1</td>\n",
       "      <td>1.2</td>\n",
       "      <td>1.21</td>\n",
       "    </tr>\n",
       "    <tr>\n",
       "      <th>6</th>\n",
       "      <td>6</td>\n",
       "      <td>0</td>\n",
       "      <td>1.452</td>\n",
       "      <td>39</td>\n",
       "      <td>4</td>\n",
       "      <td>Gene1</td>\n",
       "      <td>1.2</td>\n",
       "      <td>1.21</td>\n",
       "    </tr>\n",
       "  </tbody>\n",
       "</table>\n",
       "</div>"
      ],
      "text/plain": [
       "   clone id  label  fitness  generation born  parent clone id  \\\n",
       "0         0      0    1.000                0               -1   \n",
       "1         1      0    1.100                0               -1   \n",
       "2         2      0    1.200                0               -1   \n",
       "3         3      0    1.300                0               -1   \n",
       "4         4      0    1.320               22                2   \n",
       "5         5      0    1.452               32                4   \n",
       "6         6      0    1.452               39                4   \n",
       "\n",
       "  last gene mutated  Initial clone fitness  Gene1  \n",
       "0              None                    1.0    NaN  \n",
       "1              None                    1.1    NaN  \n",
       "2              None                    1.2    NaN  \n",
       "3              None                    1.3    NaN  \n",
       "4             Gene1                    1.2   1.10  \n",
       "5             Gene1                    1.2   1.21  \n",
       "6             Gene1                    1.2   1.21  "
      ]
     },
     "execution_count": 9,
     "metadata": {},
     "output_type": "execute_result"
    }
   ],
   "source": [
    "# To see this along with the clone data, can use the include_raw_fitness argument\n",
    "s.view_clone_info(include_raw_fitness=True)"
   ]
  },
  {
   "cell_type": "code",
   "execution_count": 10,
   "id": "ac9ed556",
   "metadata": {
    "ExecuteTime": {
     "end_time": "2022-04-12T14:52:01.390206Z",
     "start_time": "2022-04-12T14:52:01.324442Z"
    }
   },
   "outputs": [
    {
     "data": {
      "text/html": [
       "<div>\n",
       "<style scoped>\n",
       "    .dataframe tbody tr th:only-of-type {\n",
       "        vertical-align: middle;\n",
       "    }\n",
       "\n",
       "    .dataframe tbody tr th {\n",
       "        vertical-align: top;\n",
       "    }\n",
       "\n",
       "    .dataframe thead th {\n",
       "        text-align: right;\n",
       "    }\n",
       "</style>\n",
       "<table border=\"1\" class=\"dataframe\">\n",
       "  <thead>\n",
       "    <tr style=\"text-align: right;\">\n",
       "      <th></th>\n",
       "      <th>clone id</th>\n",
       "      <th>label</th>\n",
       "      <th>fitness</th>\n",
       "      <th>generation born</th>\n",
       "      <th>parent clone id</th>\n",
       "      <th>last gene mutated</th>\n",
       "      <th>Initial clone fitness</th>\n",
       "      <th>Gene1</th>\n",
       "      <th>Gene2</th>\n",
       "    </tr>\n",
       "  </thead>\n",
       "  <tbody>\n",
       "    <tr>\n",
       "      <th>0</th>\n",
       "      <td>0</td>\n",
       "      <td>0</td>\n",
       "      <td>1.00</td>\n",
       "      <td>0</td>\n",
       "      <td>-1</td>\n",
       "      <td>None</td>\n",
       "      <td>1.0</td>\n",
       "      <td>NaN</td>\n",
       "      <td>NaN</td>\n",
       "    </tr>\n",
       "    <tr>\n",
       "      <th>1</th>\n",
       "      <td>1</td>\n",
       "      <td>0</td>\n",
       "      <td>1.10</td>\n",
       "      <td>8</td>\n",
       "      <td>0</td>\n",
       "      <td>Gene1</td>\n",
       "      <td>1.0</td>\n",
       "      <td>1.1</td>\n",
       "      <td>NaN</td>\n",
       "    </tr>\n",
       "    <tr>\n",
       "      <th>2</th>\n",
       "      <td>2</td>\n",
       "      <td>0</td>\n",
       "      <td>1.10</td>\n",
       "      <td>13</td>\n",
       "      <td>0</td>\n",
       "      <td>Gene1</td>\n",
       "      <td>1.0</td>\n",
       "      <td>1.1</td>\n",
       "      <td>NaN</td>\n",
       "    </tr>\n",
       "    <tr>\n",
       "      <th>3</th>\n",
       "      <td>3</td>\n",
       "      <td>0</td>\n",
       "      <td>1.05</td>\n",
       "      <td>18</td>\n",
       "      <td>0</td>\n",
       "      <td>Gene2</td>\n",
       "      <td>1.0</td>\n",
       "      <td>NaN</td>\n",
       "      <td>1.05</td>\n",
       "    </tr>\n",
       "    <tr>\n",
       "      <th>4</th>\n",
       "      <td>4</td>\n",
       "      <td>0</td>\n",
       "      <td>1.15</td>\n",
       "      <td>25</td>\n",
       "      <td>2</td>\n",
       "      <td>Gene2</td>\n",
       "      <td>1.0</td>\n",
       "      <td>1.1</td>\n",
       "      <td>1.05</td>\n",
       "    </tr>\n",
       "    <tr>\n",
       "      <th>5</th>\n",
       "      <td>5</td>\n",
       "      <td>0</td>\n",
       "      <td>1.15</td>\n",
       "      <td>35</td>\n",
       "      <td>2</td>\n",
       "      <td>Gene2</td>\n",
       "      <td>1.0</td>\n",
       "      <td>1.1</td>\n",
       "      <td>1.05</td>\n",
       "    </tr>\n",
       "    <tr>\n",
       "      <th>6</th>\n",
       "      <td>6</td>\n",
       "      <td>0</td>\n",
       "      <td>1.10</td>\n",
       "      <td>48</td>\n",
       "      <td>0</td>\n",
       "      <td>Gene1</td>\n",
       "      <td>1.0</td>\n",
       "      <td>1.1</td>\n",
       "      <td>NaN</td>\n",
       "    </tr>\n",
       "  </tbody>\n",
       "</table>\n",
       "</div>"
      ],
      "text/plain": [
       "   clone id  label  fitness  generation born  parent clone id  \\\n",
       "0         0      0     1.00                0               -1   \n",
       "1         1      0     1.10                8                0   \n",
       "2         2      0     1.10               13                0   \n",
       "3         3      0     1.05               18                0   \n",
       "4         4      0     1.15               25                2   \n",
       "5         5      0     1.15               35                2   \n",
       "6         6      0     1.10               48                0   \n",
       "\n",
       "  last gene mutated  Initial clone fitness  Gene1  Gene2  \n",
       "0              None                    1.0    NaN    NaN  \n",
       "1             Gene1                    1.0    1.1    NaN  \n",
       "2             Gene1                    1.0    1.1    NaN  \n",
       "3             Gene2                    1.0    NaN   1.05  \n",
       "4             Gene2                    1.0    1.1   1.05  \n",
       "5             Gene2                    1.0    1.1   1.05  \n",
       "6             Gene1                    1.0    1.1    NaN  "
      ]
     },
     "execution_count": 10,
     "metadata": {},
     "output_type": "execute_result"
    }
   ],
   "source": [
    "# With multiple genes, they take up more of the array\n",
    "# If you wanted you can combine effects between genes in a different way to combining mutations within a gene\n",
    "# For example, if further mutations in the same gene have no further effect, \n",
    "# we can use combine_mutations='max', 'replace', or 'min'\n",
    "# But then you may want to add the fitness effects from different genes\n",
    "\n",
    "mut_gen = MutationGenerator(genes=[Gene('Gene1', FixedValue(1.1), synonymous_proportion=0), \n",
    "                                  Gene('Gene2', FixedValue(1.05), synonymous_proportion=0)], \n",
    "                            multi_gene_array=True,\n",
    "                           combine_mutations='replace',   # With FixedValue this means further mutations will do nothing\n",
    "                            combine_array='add',  # Add the effects from the two genes\n",
    "                           )\n",
    "\n",
    "np.random.seed(0)\n",
    "p = Parameters(algorithm='Moran', initial_cells=6, \n",
    "               mutation_generator=mut_gen, mutation_rates=0.15,\n",
    "               print_warnings=False)\n",
    "s = p.get_simulator()\n",
    "s.run_sim()\n",
    "\n",
    "# Can see that the overall fitness of each clone is the sum of the last three columns\n",
    "s.view_clone_info(include_raw_fitness=True)"
   ]
  },
  {
   "cell_type": "code",
   "execution_count": 11,
   "id": "3aadfbd4",
   "metadata": {
    "ExecuteTime": {
     "end_time": "2022-04-12T14:52:01.411793Z",
     "start_time": "2022-04-12T14:52:01.399080Z"
    }
   },
   "outputs": [
    {
     "data": {
      "text/plain": [
       "('multiply', 'add', 'max', 'min', 'priority')"
      ]
     },
     "execution_count": 11,
     "metadata": {},
     "output_type": "execute_result"
    }
   ],
   "source": [
    "# There options for combination are similar\n",
    "# priority is an odd case, where only the last mutated gene in the list (or the last epistatic effect) is used\n",
    "# Might be relevant for cases where the knockout of one gene will override the function of downstream genes. \n",
    "MutationGenerator.combine_array_options"
   ]
  },
  {
   "cell_type": "markdown",
   "id": "35b3cd71",
   "metadata": {},
   "source": [
    "# Epistatic effects"
   ]
  },
  {
   "cell_type": "markdown",
   "id": "82322b01",
   "metadata": {},
   "source": [
    "The combination of mutations in different genes may be more complex than simply addition or multiplication.   \n",
    "Defining epistatic effects allows more control of the combinations of fitness.  \n",
    "\n",
    "For example, this can be used for haplosufficient or haploinsufficient genes by defining a separate Gene object for each allele and an epistatic effect for when both alleles are mutated.  "
   ]
  },
  {
   "cell_type": "code",
   "execution_count": 12,
   "id": "b361bc0c",
   "metadata": {
    "ExecuteTime": {
     "end_time": "2022-04-12T14:52:01.493982Z",
     "start_time": "2022-04-12T14:52:01.416535Z"
    }
   },
   "outputs": [
    {
     "data": {
      "text/html": [
       "<div>\n",
       "<style scoped>\n",
       "    .dataframe tbody tr th:only-of-type {\n",
       "        vertical-align: middle;\n",
       "    }\n",
       "\n",
       "    .dataframe tbody tr th {\n",
       "        vertical-align: top;\n",
       "    }\n",
       "\n",
       "    .dataframe thead th {\n",
       "        text-align: right;\n",
       "    }\n",
       "</style>\n",
       "<table border=\"1\" class=\"dataframe\">\n",
       "  <thead>\n",
       "    <tr style=\"text-align: right;\">\n",
       "      <th></th>\n",
       "      <th>clone id</th>\n",
       "      <th>label</th>\n",
       "      <th>fitness</th>\n",
       "      <th>generation born</th>\n",
       "      <th>parent clone id</th>\n",
       "      <th>last gene mutated</th>\n",
       "      <th>Initial clone fitness</th>\n",
       "      <th>Gene1</th>\n",
       "      <th>Gene2</th>\n",
       "      <th>0</th>\n",
       "    </tr>\n",
       "  </thead>\n",
       "  <tbody>\n",
       "    <tr>\n",
       "      <th>0</th>\n",
       "      <td>0</td>\n",
       "      <td>0</td>\n",
       "      <td>1.00</td>\n",
       "      <td>0</td>\n",
       "      <td>-1</td>\n",
       "      <td>None</td>\n",
       "      <td>1.0</td>\n",
       "      <td>NaN</td>\n",
       "      <td>NaN</td>\n",
       "      <td>NaN</td>\n",
       "    </tr>\n",
       "    <tr>\n",
       "      <th>1</th>\n",
       "      <td>1</td>\n",
       "      <td>0</td>\n",
       "      <td>1.10</td>\n",
       "      <td>8</td>\n",
       "      <td>0</td>\n",
       "      <td>Gene1</td>\n",
       "      <td>1.0</td>\n",
       "      <td>1.1</td>\n",
       "      <td>NaN</td>\n",
       "      <td>NaN</td>\n",
       "    </tr>\n",
       "    <tr>\n",
       "      <th>2</th>\n",
       "      <td>2</td>\n",
       "      <td>0</td>\n",
       "      <td>1.10</td>\n",
       "      <td>13</td>\n",
       "      <td>0</td>\n",
       "      <td>Gene1</td>\n",
       "      <td>1.0</td>\n",
       "      <td>1.1</td>\n",
       "      <td>NaN</td>\n",
       "      <td>NaN</td>\n",
       "    </tr>\n",
       "    <tr>\n",
       "      <th>3</th>\n",
       "      <td>3</td>\n",
       "      <td>0</td>\n",
       "      <td>1.05</td>\n",
       "      <td>18</td>\n",
       "      <td>0</td>\n",
       "      <td>Gene2</td>\n",
       "      <td>1.0</td>\n",
       "      <td>NaN</td>\n",
       "      <td>1.05</td>\n",
       "      <td>NaN</td>\n",
       "    </tr>\n",
       "    <tr>\n",
       "      <th>4</th>\n",
       "      <td>4</td>\n",
       "      <td>0</td>\n",
       "      <td>3.00</td>\n",
       "      <td>25</td>\n",
       "      <td>2</td>\n",
       "      <td>Gene2</td>\n",
       "      <td>1.0</td>\n",
       "      <td>1.1</td>\n",
       "      <td>1.05</td>\n",
       "      <td>3.0</td>\n",
       "    </tr>\n",
       "    <tr>\n",
       "      <th>5</th>\n",
       "      <td>5</td>\n",
       "      <td>0</td>\n",
       "      <td>3.00</td>\n",
       "      <td>35</td>\n",
       "      <td>4</td>\n",
       "      <td>Gene2</td>\n",
       "      <td>1.0</td>\n",
       "      <td>1.1</td>\n",
       "      <td>1.05</td>\n",
       "      <td>3.0</td>\n",
       "    </tr>\n",
       "    <tr>\n",
       "      <th>6</th>\n",
       "      <td>6</td>\n",
       "      <td>0</td>\n",
       "      <td>3.00</td>\n",
       "      <td>48</td>\n",
       "      <td>4</td>\n",
       "      <td>Gene1</td>\n",
       "      <td>1.0</td>\n",
       "      <td>1.1</td>\n",
       "      <td>1.05</td>\n",
       "      <td>3.0</td>\n",
       "    </tr>\n",
       "  </tbody>\n",
       "</table>\n",
       "</div>"
      ],
      "text/plain": [
       "   clone id  label  fitness  generation born  parent clone id  \\\n",
       "0         0      0     1.00                0               -1   \n",
       "1         1      0     1.10                8                0   \n",
       "2         2      0     1.10               13                0   \n",
       "3         3      0     1.05               18                0   \n",
       "4         4      0     3.00               25                2   \n",
       "5         5      0     3.00               35                4   \n",
       "6         6      0     3.00               48                4   \n",
       "\n",
       "  last gene mutated  Initial clone fitness  Gene1  Gene2    0  \n",
       "0              None                    1.0    NaN    NaN  NaN  \n",
       "1             Gene1                    1.0    1.1    NaN  NaN  \n",
       "2             Gene1                    1.0    1.1    NaN  NaN  \n",
       "3             Gene2                    1.0    NaN   1.05  NaN  \n",
       "4             Gene2                    1.0    1.1   1.05  3.0  \n",
       "5             Gene2                    1.0    1.1   1.05  3.0  \n",
       "6             Gene1                    1.0    1.1   1.05  3.0  "
      ]
     },
     "execution_count": 12,
     "metadata": {},
     "output_type": "execute_result"
    }
   ],
   "source": [
    "mut_gen = MutationGenerator(genes=[Gene('Gene1', FixedValue(1.1), synonymous_proportion=0), \n",
    "                                  Gene('Gene2', FixedValue(1.05), synonymous_proportion=0)],\n",
    "                            \n",
    "                            # Add an epistatic effect. \n",
    "                            # If both Gene1 and Gene2 are mutated, the clone has a fitness of 3\n",
    "                            # This replaces the individual effects of both genes\n",
    "                            epistatics=[('Epi1', 'Gene1', 'Gene2', FixedValue(3))],\n",
    "                            \n",
    "                            \n",
    "                            multi_gene_array=True,\n",
    "                           combine_mutations='replace',   # With FixedValue this means further mutations will do nothing\n",
    "                            combine_array='add',  # Add the effects from the two genes\n",
    "                           )\n",
    "\n",
    "np.random.seed(0)\n",
    "p = Parameters(algorithm='Moran', initial_cells=6, \n",
    "               mutation_generator=mut_gen, mutation_rates=0.15,\n",
    "               print_warnings=False)\n",
    "s = p.get_simulator()\n",
    "s.run_sim()\n",
    "\n",
    "# Note that for the last three clones, their fitness is 3 because both genes are mutated. \n",
    "s.view_clone_info(include_raw_fitness=True)"
   ]
  },
  {
   "cell_type": "markdown",
   "id": "083e0391",
   "metadata": {},
   "source": [
    "# Checking fitness rules are correct"
   ]
  },
  {
   "cell_type": "markdown",
   "id": "9a5d5d66",
   "metadata": {},
   "source": [
    "It can be a complex system for defining the rules for mutation combinations.   \n",
    "To check that the fitness values are what is intended, you can plot the (mean) fitness of the combination of gene mutations.  \n",
    "This assumes that there is at most a *single mutation per gene*. "
   ]
  },
  {
   "cell_type": "code",
   "execution_count": 13,
   "id": "c33f883e",
   "metadata": {
    "ExecuteTime": {
     "end_time": "2022-04-12T14:52:01.753803Z",
     "start_time": "2022-04-12T14:52:01.506411Z"
    }
   },
   "outputs": [
    {
     "data": {
      "text/plain": [
       "array([1.  , 1.1 , 1.05, 3.  ])"
      ]
     },
     "execution_count": 13,
     "metadata": {},
     "output_type": "execute_result"
    },
    {
     "data": {
      "image/png": "[encoded data removed]",
      "text/plain": [
       "<Figure size 432x288 with 1 Axes>"
      ]
     },
     "metadata": {
      "needs_background": "light"
     },
     "output_type": "display_data"
    }
   ],
   "source": [
    "# Use this function from the MutationGenerator to plot the fitness of each combination of mutations. \n",
    "# This is for the epistatic example above. \n",
    "mut_gen.plot_fitness_combinations()"
   ]
  },
  {
   "cell_type": "code",
   "execution_count": 14,
   "id": "8a0a37a2",
   "metadata": {
    "ExecuteTime": {
     "end_time": "2022-04-12T14:52:01.983816Z",
     "start_time": "2022-04-12T14:52:01.776564Z"
    }
   },
   "outputs": [
    {
     "data": {
      "text/plain": [
       "array([1.   , 1.1  , 1.05 , 3.   , 1.5  , 1.65 , 1.575, 4.5  ])"
      ]
     },
     "execution_count": 14,
     "metadata": {},
     "output_type": "execute_result"
    },
    {
     "data": {
      "image/png": "[encoded data removed]",
      "text/plain": [
       "<Figure size 432x288 with 1 Axes>"
      ]
     },
     "metadata": {
      "needs_background": "light"
     },
     "output_type": "display_data"
    }
   ],
   "source": [
    "# Add an extra gene and change some options and check again\n",
    "# For any non-FixedValue distributions of fitness effects, the mean value is used. \n",
    "mut_gen2 = MutationGenerator(genes=[Gene('Gene1', FixedValue(1.1), synonymous_proportion=0), \n",
    "                                  Gene('Gene2', FixedValue(1.05), synonymous_proportion=0),\n",
    "                                  Gene('Gene3', UniformDist(1, 2), synonymous_proportion=0)],\n",
    "                            \n",
    "                            epistatics=[('Epi1', 'Gene1', 'Gene2', FixedValue(3))],\n",
    "                            \n",
    "                            multi_gene_array=True,\n",
    "                            combine_array='multiply'\n",
    "                           )\n",
    "mut_gen2.plot_fitness_combinations()"
   ]
  },
  {
   "cell_type": "code",
   "execution_count": 15,
   "id": "11b6d36a",
   "metadata": {
    "ExecuteTime": {
     "end_time": "2022-04-12T14:52:02.187828Z",
     "start_time": "2022-04-12T14:52:01.987690Z"
    }
   },
   "outputs": [
    {
     "data": {
      "text/plain": [
       "array([1.  , 1.1 , 1.05, 3.  , 1.5 , 1.5 , 1.5 , 3.  ])"
      ]
     },
     "execution_count": 15,
     "metadata": {},
     "output_type": "execute_result"
    },
    {
     "data": {
      "image/png": "[encoded data removed]",
      "text/plain": [
       "<Figure size 432x288 with 1 Axes>"
      ]
     },
     "metadata": {
      "needs_background": "light"
     },
     "output_type": "display_data"
    }
   ],
   "source": [
    "# Can see the difference using combine_array='max' instead of combine_array='multiply'\n",
    "mut_gen2 = MutationGenerator(genes=[Gene('Gene1', FixedValue(1.1), synonymous_proportion=0), \n",
    "                                  Gene('Gene2', FixedValue(1.05), synonymous_proportion=0),\n",
    "                                  Gene('Gene3', UniformDist(1, 2), synonymous_proportion=0)],\n",
    "                            \n",
    "                            epistatics=[('Epi1', 'Gene1', 'Gene2', FixedValue(3))],\n",
    "                            \n",
    "                            multi_gene_array=True,\n",
    "                            combine_array='max'\n",
    "                           )\n",
    "mut_gen2.plot_fitness_combinations()"
   ]
  },
  {
   "cell_type": "markdown",
   "id": "f422bd28",
   "metadata": {},
   "source": [
    "# Diminishing returns"
   ]
  },
  {
   "cell_type": "markdown",
   "id": "10334d5b",
   "metadata": {},
   "source": [
    "As a clone gains more mutations and becomes fitter, there may be less and less room for improvement.  \n",
    "You can apply a transformation of the combined fitness effects of each mutation.   "
   ]
  },
  {
   "cell_type": "code",
   "execution_count": 16,
   "id": "e5ccf54d",
   "metadata": {
    "ExecuteTime": {
     "end_time": "2022-04-12T14:52:02.203237Z",
     "start_time": "2022-04-12T14:52:02.192973Z"
    }
   },
   "outputs": [],
   "source": [
    "from clone_competition_simulation import BoundedLogisticFitness"
   ]
  },
  {
   "cell_type": "code",
   "execution_count": 17,
   "id": "e9101bd1",
   "metadata": {
    "ExecuteTime": {
     "end_time": "2022-04-12T14:52:03.022163Z",
     "start_time": "2022-04-12T14:52:02.206886Z"
    }
   },
   "outputs": [
    {
     "data": {
      "text/html": [
       "<div>\n",
       "<style scoped>\n",
       "    .dataframe tbody tr th:only-of-type {\n",
       "        vertical-align: middle;\n",
       "    }\n",
       "\n",
       "    .dataframe tbody tr th {\n",
       "        vertical-align: top;\n",
       "    }\n",
       "\n",
       "    .dataframe thead th {\n",
       "        text-align: right;\n",
       "    }\n",
       "</style>\n",
       "<table border=\"1\" class=\"dataframe\">\n",
       "  <thead>\n",
       "    <tr style=\"text-align: right;\">\n",
       "      <th></th>\n",
       "      <th>clone id</th>\n",
       "      <th>label</th>\n",
       "      <th>fitness</th>\n",
       "      <th>generation born</th>\n",
       "      <th>parent clone id</th>\n",
       "      <th>last gene mutated</th>\n",
       "    </tr>\n",
       "  </thead>\n",
       "  <tbody>\n",
       "    <tr>\n",
       "      <th>1000</th>\n",
       "      <td>1000</td>\n",
       "      <td>0</td>\n",
       "      <td>2295.856929</td>\n",
       "      <td>99</td>\n",
       "      <td>985</td>\n",
       "      <td>Gene1</td>\n",
       "    </tr>\n",
       "    <tr>\n",
       "      <th>1001</th>\n",
       "      <td>1001</td>\n",
       "      <td>0</td>\n",
       "      <td>426.878854</td>\n",
       "      <td>99</td>\n",
       "      <td>806</td>\n",
       "      <td>Gene1</td>\n",
       "    </tr>\n",
       "    <tr>\n",
       "      <th>1002</th>\n",
       "      <td>1002</td>\n",
       "      <td>0</td>\n",
       "      <td>304.913467</td>\n",
       "      <td>100</td>\n",
       "      <td>860</td>\n",
       "      <td>Gene1</td>\n",
       "    </tr>\n",
       "    <tr>\n",
       "      <th>1003</th>\n",
       "      <td>1003</td>\n",
       "      <td>0</td>\n",
       "      <td>1639.897806</td>\n",
       "      <td>100</td>\n",
       "      <td>930</td>\n",
       "      <td>Gene1</td>\n",
       "    </tr>\n",
       "    <tr>\n",
       "      <th>1004</th>\n",
       "      <td>1004</td>\n",
       "      <td>0</td>\n",
       "      <td>304.913467</td>\n",
       "      <td>100</td>\n",
       "      <td>841</td>\n",
       "      <td>Gene1</td>\n",
       "    </tr>\n",
       "    <tr>\n",
       "      <th>1005</th>\n",
       "      <td>1005</td>\n",
       "      <td>0</td>\n",
       "      <td>1639.897806</td>\n",
       "      <td>100</td>\n",
       "      <td>930</td>\n",
       "      <td>Gene1</td>\n",
       "    </tr>\n",
       "    <tr>\n",
       "      <th>1006</th>\n",
       "      <td>1006</td>\n",
       "      <td>0</td>\n",
       "      <td>1171.355576</td>\n",
       "      <td>100</td>\n",
       "      <td>886</td>\n",
       "      <td>Gene1</td>\n",
       "    </tr>\n",
       "    <tr>\n",
       "      <th>1007</th>\n",
       "      <td>1007</td>\n",
       "      <td>0</td>\n",
       "      <td>1171.355576</td>\n",
       "      <td>100</td>\n",
       "      <td>891</td>\n",
       "      <td>Gene1</td>\n",
       "    </tr>\n",
       "    <tr>\n",
       "      <th>1008</th>\n",
       "      <td>1008</td>\n",
       "      <td>0</td>\n",
       "      <td>597.630396</td>\n",
       "      <td>100</td>\n",
       "      <td>863</td>\n",
       "      <td>Gene1</td>\n",
       "    </tr>\n",
       "    <tr>\n",
       "      <th>1009</th>\n",
       "      <td>1009</td>\n",
       "      <td>0</td>\n",
       "      <td>2295.856929</td>\n",
       "      <td>100</td>\n",
       "      <td>985</td>\n",
       "      <td>Gene1</td>\n",
       "    </tr>\n",
       "  </tbody>\n",
       "</table>\n",
       "</div>"
      ],
      "text/plain": [
       "      clone id  label      fitness  generation born  parent clone id  \\\n",
       "1000      1000      0  2295.856929               99              985   \n",
       "1001      1001      0   426.878854               99              806   \n",
       "1002      1002      0   304.913467              100              860   \n",
       "1003      1003      0  1639.897806              100              930   \n",
       "1004      1004      0   304.913467              100              841   \n",
       "1005      1005      0  1639.897806              100              930   \n",
       "1006      1006      0  1171.355576              100              886   \n",
       "1007      1007      0  1171.355576              100              891   \n",
       "1008      1008      0   597.630396              100              863   \n",
       "1009      1009      0  2295.856929              100              985   \n",
       "\n",
       "     last gene mutated  \n",
       "1000             Gene1  \n",
       "1001             Gene1  \n",
       "1002             Gene1  \n",
       "1003             Gene1  \n",
       "1004             Gene1  \n",
       "1005             Gene1  \n",
       "1006             Gene1  \n",
       "1007             Gene1  \n",
       "1008             Gene1  \n",
       "1009             Gene1  "
      ]
     },
     "execution_count": 17,
     "metadata": {},
     "output_type": "execute_result"
    }
   ],
   "source": [
    "# Run a simulation with loads of mutations that multiply in fitness\n",
    "mut_gen = MutationGenerator(genes=[Gene('Gene1', FixedValue(1.4), synonymous_proportion=0)], \n",
    "                           combine_mutations='multiply' \n",
    "                           )\n",
    "\n",
    "np.random.seed(0)\n",
    "p = Parameters(algorithm='Moran', initial_cells=1000,\n",
    "               mutation_generator=mut_gen, mutation_rates=0.1,\n",
    "               print_warnings=False)\n",
    "s = p.get_simulator()\n",
    "s.run_sim()\n",
    "\n",
    "# You can see that the fitness values of the clones has become very high!\n",
    "s.view_clone_info()[-10:]"
   ]
  },
  {
   "cell_type": "code",
   "execution_count": 18,
   "id": "917087d6",
   "metadata": {
    "ExecuteTime": {
     "end_time": "2022-04-12T14:52:03.033847Z",
     "start_time": "2022-04-12T14:52:03.025238Z"
    }
   },
   "outputs": [
    {
     "data": {
      "text/plain": [
       "[1009,\n",
       " 985,\n",
       " 984,\n",
       " 886,\n",
       " 848,\n",
       " 847,\n",
       " 791,\n",
       " 790,\n",
       " 786,\n",
       " 735,\n",
       " 620,\n",
       " 483,\n",
       " 470,\n",
       " 464,\n",
       " 405,\n",
       " 390,\n",
       " 346,\n",
       " 340,\n",
       " 339,\n",
       " 319,\n",
       " 198,\n",
       " 116,\n",
       " 115,\n",
       " 0,\n",
       " -1]"
      ]
     },
     "execution_count": 18,
     "metadata": {},
     "output_type": "execute_result"
    }
   ],
   "source": [
    "# The final clones have many mutations, each multplying the fitness by 1.4 \n",
    "# This compound interest of mutations can lead to very high fitness \n",
    "s.get_clone_ancestors(1009)"
   ]
  },
  {
   "cell_type": "markdown",
   "id": "21fb45a9",
   "metadata": {},
   "source": [
    "One (extreme) option to limit to growth of fitness values is to use the 'max' option.  \n",
    "However, there is another option that enables diminishing returns to be applied.  "
   ]
  },
  {
   "cell_type": "code",
   "execution_count": 19,
   "id": "56a58f26",
   "metadata": {
    "ExecuteTime": {
     "end_time": "2022-04-12T14:52:03.218071Z",
     "start_time": "2022-04-12T14:52:03.037943Z"
    }
   },
   "outputs": [
    {
     "data": {
      "image/png": "[encoded data removed]",
      "text/plain": [
       "<Figure size 432x288 with 1 Axes>"
      ]
     },
     "metadata": {
      "needs_background": "light"
     },
     "output_type": "display_data"
    }
   ],
   "source": [
    "# This class places an upper bound on fitness. Here fitness cannot get above 3. \n",
    "b = BoundedLogisticFitness(3)\n",
    "plt.plot(np.linspace(0, 10, 100), b.fitness(np.linspace(0, 10, 100)))\n",
    "plt.xlabel('Raw fitness')\n",
    "plt.ylabel('Transformed fitness');"
   ]
  },
  {
   "cell_type": "code",
   "execution_count": 20,
   "id": "5f8822da",
   "metadata": {
    "ExecuteTime": {
     "end_time": "2022-04-12T14:52:03.401915Z",
     "start_time": "2022-04-12T14:52:03.222296Z"
    }
   },
   "outputs": [
    {
     "data": {
      "image/png": "[encoded data removed]",
      "text/plain": [
       "<Figure size 432x288 with 1 Axes>"
      ]
     },
     "metadata": {
      "needs_background": "light"
     },
     "output_type": "display_data"
    }
   ],
   "source": [
    "# The shape of this graph can also be altered. \n",
    "b = BoundedLogisticFitness(3)\n",
    "plt.plot(np.linspace(0, 10, 100), b.fitness(np.linspace(0, 10, 100)))\n",
    "b2 = BoundedLogisticFitness(3, 10)\n",
    "plt.plot(np.linspace(0, 10, 100), b2.fitness(np.linspace(0, 10, 100)))\n",
    "plt.xlabel('Raw fitness')\n",
    "plt.ylabel('Transformed fitness');"
   ]
  },
  {
   "cell_type": "code",
   "execution_count": 21,
   "id": "e2c1763a",
   "metadata": {
    "ExecuteTime": {
     "end_time": "2022-04-12T14:52:04.209221Z",
     "start_time": "2022-04-12T14:52:03.405882Z"
    }
   },
   "outputs": [
    {
     "data": {
      "text/html": [
       "<div>\n",
       "<style scoped>\n",
       "    .dataframe tbody tr th:only-of-type {\n",
       "        vertical-align: middle;\n",
       "    }\n",
       "\n",
       "    .dataframe tbody tr th {\n",
       "        vertical-align: top;\n",
       "    }\n",
       "\n",
       "    .dataframe thead th {\n",
       "        text-align: right;\n",
       "    }\n",
       "</style>\n",
       "<table border=\"1\" class=\"dataframe\">\n",
       "  <thead>\n",
       "    <tr style=\"text-align: right;\">\n",
       "      <th></th>\n",
       "      <th>clone id</th>\n",
       "      <th>label</th>\n",
       "      <th>fitness</th>\n",
       "      <th>generation born</th>\n",
       "      <th>parent clone id</th>\n",
       "      <th>last gene mutated</th>\n",
       "      <th>Gene1</th>\n",
       "    </tr>\n",
       "  </thead>\n",
       "  <tbody>\n",
       "    <tr>\n",
       "      <th>1000</th>\n",
       "      <td>1000</td>\n",
       "      <td>0</td>\n",
       "      <td>2.926558</td>\n",
       "      <td>99</td>\n",
       "      <td>964</td>\n",
       "      <td>Gene1</td>\n",
       "      <td>5.378240</td>\n",
       "    </tr>\n",
       "    <tr>\n",
       "      <th>1001</th>\n",
       "      <td>1001</td>\n",
       "      <td>0</td>\n",
       "      <td>2.926558</td>\n",
       "      <td>99</td>\n",
       "      <td>357</td>\n",
       "      <td>Gene1</td>\n",
       "      <td>5.378240</td>\n",
       "    </tr>\n",
       "    <tr>\n",
       "      <th>1002</th>\n",
       "      <td>1002</td>\n",
       "      <td>0</td>\n",
       "      <td>2.999569</td>\n",
       "      <td>100</td>\n",
       "      <td>464</td>\n",
       "      <td>Gene1</td>\n",
       "      <td>10.541350</td>\n",
       "    </tr>\n",
       "    <tr>\n",
       "      <th>1003</th>\n",
       "      <td>1003</td>\n",
       "      <td>0</td>\n",
       "      <td>2.926558</td>\n",
       "      <td>100</td>\n",
       "      <td>716</td>\n",
       "      <td>Gene1</td>\n",
       "      <td>5.378240</td>\n",
       "    </tr>\n",
       "    <tr>\n",
       "      <th>1004</th>\n",
       "      <td>1004</td>\n",
       "      <td>0</td>\n",
       "      <td>2.926558</td>\n",
       "      <td>100</td>\n",
       "      <td>360</td>\n",
       "      <td>Gene1</td>\n",
       "      <td>5.378240</td>\n",
       "    </tr>\n",
       "    <tr>\n",
       "      <th>1005</th>\n",
       "      <td>1005</td>\n",
       "      <td>0</td>\n",
       "      <td>2.926558</td>\n",
       "      <td>100</td>\n",
       "      <td>691</td>\n",
       "      <td>Gene1</td>\n",
       "      <td>5.378240</td>\n",
       "    </tr>\n",
       "    <tr>\n",
       "      <th>1006</th>\n",
       "      <td>1006</td>\n",
       "      <td>0</td>\n",
       "      <td>2.222816</td>\n",
       "      <td>100</td>\n",
       "      <td>586</td>\n",
       "      <td>Gene1</td>\n",
       "      <td>2.744000</td>\n",
       "    </tr>\n",
       "    <tr>\n",
       "      <th>1007</th>\n",
       "      <td>1007</td>\n",
       "      <td>0</td>\n",
       "      <td>2.999994</td>\n",
       "      <td>100</td>\n",
       "      <td>611</td>\n",
       "      <td>Gene1</td>\n",
       "      <td>14.757891</td>\n",
       "    </tr>\n",
       "    <tr>\n",
       "      <th>1008</th>\n",
       "      <td>1008</td>\n",
       "      <td>0</td>\n",
       "      <td>2.991267</td>\n",
       "      <td>100</td>\n",
       "      <td>454</td>\n",
       "      <td>Gene1</td>\n",
       "      <td>7.529536</td>\n",
       "    </tr>\n",
       "    <tr>\n",
       "      <th>1009</th>\n",
       "      <td>1009</td>\n",
       "      <td>0</td>\n",
       "      <td>2.999569</td>\n",
       "      <td>100</td>\n",
       "      <td>953</td>\n",
       "      <td>Gene1</td>\n",
       "      <td>10.541350</td>\n",
       "    </tr>\n",
       "  </tbody>\n",
       "</table>\n",
       "</div>"
      ],
      "text/plain": [
       "      clone id  label   fitness  generation born  parent clone id  \\\n",
       "1000      1000      0  2.926558               99              964   \n",
       "1001      1001      0  2.926558               99              357   \n",
       "1002      1002      0  2.999569              100              464   \n",
       "1003      1003      0  2.926558              100              716   \n",
       "1004      1004      0  2.926558              100              360   \n",
       "1005      1005      0  2.926558              100              691   \n",
       "1006      1006      0  2.222816              100              586   \n",
       "1007      1007      0  2.999994              100              611   \n",
       "1008      1008      0  2.991267              100              454   \n",
       "1009      1009      0  2.999569              100              953   \n",
       "\n",
       "     last gene mutated      Gene1  \n",
       "1000             Gene1   5.378240  \n",
       "1001             Gene1   5.378240  \n",
       "1002             Gene1  10.541350  \n",
       "1003             Gene1   5.378240  \n",
       "1004             Gene1   5.378240  \n",
       "1005             Gene1   5.378240  \n",
       "1006             Gene1   2.744000  \n",
       "1007             Gene1  14.757891  \n",
       "1008             Gene1   7.529536  \n",
       "1009             Gene1  10.541350  "
      ]
     },
     "execution_count": 21,
     "metadata": {},
     "output_type": "execute_result"
    }
   ],
   "source": [
    "# Run the simulation but limit the fitness\n",
    "mut_gen = MutationGenerator(genes=[Gene('Gene1', FixedValue(1.4), synonymous_proportion=0)], \n",
    "                           combine_mutations='multiply', \n",
    "                            mutation_combination_class=BoundedLogisticFitness(3)   # This limits fitness to 3\n",
    "                           )\n",
    "\n",
    "np.random.seed(0)\n",
    "p = Parameters(algorithm='Moran', initial_cells=1000,\n",
    "               mutation_generator=mut_gen, mutation_rates=0.1,\n",
    "               print_warnings=False)\n",
    "s = p.get_simulator()\n",
    "s.run_sim()\n",
    "\n",
    "# Now those final clones have their fitness capped. \n",
    "# The raw fitness is also lower, since the fitness reduction also reduces the advantage of the fittest clones\n",
    "# (which would then gain more subclones and become even fitter)\n",
    "s.view_clone_info(include_raw_fitness=True)[-10:]"
   ]
  },
  {
   "cell_type": "code",
   "execution_count": null,
   "id": "d0f893fc",
   "metadata": {},
   "outputs": [],
   "source": []
  }
 ],
 "metadata": {
  "kernelspec": {
   "display_name": "Python 3 (ipykernel)",
   "language": "python",
   "name": "python3"
  },
  "language_info": {
   "codemirror_mode": {
    "name": "ipython",
    "version": 3
   },
   "file_extension": ".py",
   "mimetype": "text/x-python",
   "name": "python",
   "nbconvert_exporter": "python",
   "pygments_lexer": "ipython3",
   "version": "3.8.12"
  }
 },
 "nbformat": 4,
 "nbformat_minor": 5
}
